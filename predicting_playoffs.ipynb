{
  "cells": [
    {
      "cell_type": "code",
      "execution_count": null,
      "metadata": {},
      "outputs": [],
      "source": [
        "# install all the requirements for this projects to work\n",
        "!pip install -r requirements.txt"
      ]
    },
    {
      "attachments": {},
      "cell_type": "markdown",
      "metadata": {
        "id": "u_wWpYlqy7Qv"
      },
      "source": [
        "# Retrieve all NBA data"
      ]
    },
    {
      "cell_type": "markdown",
      "metadata": {
        "id": "rgfx1sZ7zEep"
      },
      "source": [
        "## Get games"
      ]
    },
    {
      "cell_type": "code",
      "execution_count": 3,
      "metadata": {
        "colab": {
          "base_uri": "https://localhost:8080/"
        },
        "id": "l-ZCRyM-y6aQ",
        "outputId": "3f8f4853-368b-463e-b57b-8cdc05be82bd"
      },
      "outputs": [],
      "source": [
        "!python data_scraping/get_games.py"
      ]
    },
    {
      "cell_type": "markdown",
      "metadata": {
        "id": "69ciG0xh7ohX"
      },
      "source": [
        "## Get Players"
      ]
    },
    {
      "cell_type": "code",
      "execution_count": null,
      "metadata": {
        "id": "JyTvILKP7niF"
      },
      "outputs": [],
      "source": []
    },
    {
      "cell_type": "markdown",
      "metadata": {
        "id": "hDqSyxTX9LPv"
      },
      "source": [
        "## Get Teams"
      ]
    },
    {
      "cell_type": "code",
      "execution_count": null,
      "metadata": {
        "id": "dUpsH5O59K-i"
      },
      "outputs": [],
      "source": []
    },
    {
      "cell_type": "markdown",
      "metadata": {
        "id": "7JAxSf-XzAAM"
      },
      "source": [
        "# Building a model for prediction"
      ]
    },
    {
      "cell_type": "markdown",
      "metadata": {
        "id": "qp8B13mI9QpX"
      },
      "source": [
        "## Imports"
      ]
    },
    {
      "cell_type": "code",
      "execution_count": 16,
      "metadata": {
        "_cell_guid": "b1076dfc-b9ad-4769-8c92-a6c4dae69d19",
        "_uuid": "8f2839f25d086af736a60e9eeb907d3b93b6e0e5",
        "execution": {
          "iopub.execute_input": "2021-03-20T05:31:24.865014Z",
          "iopub.status.busy": "2021-03-20T05:31:24.864324Z",
          "iopub.status.idle": "2021-03-20T05:31:24.880849Z",
          "shell.execute_reply": "2021-03-20T05:31:24.880227Z"
        },
        "id": "MzQpUWdVles2",
        "papermill": {
          "duration": 0.048852,
          "end_time": "2021-03-20T05:31:24.881077",
          "exception": false,
          "start_time": "2021-03-20T05:31:24.832225",
          "status": "completed"
        },
        "tags": []
      },
      "outputs": [],
      "source": [
        "import numpy as np # linear algebra\n",
        "import pandas as pd # data processing, CSV file I/O (e.g. pd.read_csv)"
      ]
    },
    {
      "cell_type": "code",
      "execution_count": 17,
      "metadata": {
        "execution": {
          "iopub.execute_input": "2021-03-20T05:31:24.943805Z",
          "iopub.status.busy": "2021-03-20T05:31:24.943143Z",
          "iopub.status.idle": "2021-03-20T05:31:26.174298Z",
          "shell.execute_reply": "2021-03-20T05:31:26.173608Z"
        },
        "id": "QKiezkFlles_",
        "papermill": {
          "duration": 1.264365,
          "end_time": "2021-03-20T05:31:26.174443",
          "exception": false,
          "start_time": "2021-03-20T05:31:24.910078",
          "status": "completed"
        },
        "tags": []
      },
      "outputs": [],
      "source": [
        "from sklearn import svm # for Discriminator\n",
        "from sklearn.model_selection import train_test_split # for train-test split \n",
        "from sklearn.preprocessing import StandardScaler # for feature scaling\n",
        "from sklearn.model_selection import GridSearchCV # for fine-tuning\n",
        "from sklearn.metrics import make_scorer, balanced_accuracy_score # for evaluation\n",
        "from sklearn.pipeline import make_pipeline # for prediction"
      ]
    },
    {
      "cell_type": "code",
      "execution_count": 18,
      "metadata": {
        "execution": {
          "iopub.execute_input": "2021-03-20T05:31:26.237533Z",
          "iopub.status.busy": "2021-03-20T05:31:26.236911Z",
          "iopub.status.idle": "2021-03-20T05:31:26.450821Z",
          "shell.execute_reply": "2021-03-20T05:31:26.450117Z"
        },
        "id": "CI5GfMp1letB",
        "papermill": {
          "duration": 0.246757,
          "end_time": "2021-03-20T05:31:26.450985",
          "exception": false,
          "start_time": "2021-03-20T05:31:26.204228",
          "status": "completed"
        },
        "tags": []
      },
      "outputs": [],
      "source": [
        "# for Generator\n",
        "from scipy import stats # for sampling\n",
        "from fitter import Fitter # for fitting the best distribution\n",
        "import copy # for copying nested dictionaries"
      ]
    },
    {
      "cell_type": "code",
      "execution_count": 19,
      "metadata": {
        "execution": {
          "iopub.execute_input": "2021-03-20T05:31:26.513964Z",
          "iopub.status.busy": "2021-03-20T05:31:26.513293Z",
          "iopub.status.idle": "2021-03-20T05:31:26.594734Z",
          "shell.execute_reply": "2021-03-20T05:31:26.595297Z"
        },
        "id": "IVKV0hBJletC",
        "papermill": {
          "duration": 0.1153,
          "end_time": "2021-03-20T05:31:26.595479",
          "exception": false,
          "start_time": "2021-03-20T05:31:26.480179",
          "status": "completed"
        },
        "tags": []
      },
      "outputs": [],
      "source": [
        "import matplotlib.pyplot as plt  # for visualization \n",
        "import seaborn as sns  # for coloring \n",
        "\n",
        "# set style of graphs\n",
        "plt.style.use('dark_background')\n",
        "from pylab import rcParams\n",
        "rcParams['figure.figsize'] = 10, 5"
      ]
    },
    {
      "attachments": {},
      "cell_type": "markdown",
      "metadata": {
        "id": "1LzhPAFXletD",
        "papermill": {
          "duration": 0.028704,
          "end_time": "2021-03-20T05:31:26.653090",
          "exception": false,
          "start_time": "2021-03-20T05:31:26.624386",
          "status": "completed"
        },
        "tags": []
      },
      "source": [
        "# Predicting NBA playoff results with simulation\n",
        "This part is inspired by [ES](https://www.kaggle.com/espaceship) from [this notebook](https://www.kaggle.com/code/espaceship/predicting-entire-nba-playoff-with-simulation)"
      ]
    },
    {
      "attachments": {},
      "cell_type": "markdown",
      "metadata": {
        "id": "sHFSWk8mletF",
        "papermill": {
          "duration": 0.02853,
          "end_time": "2021-03-20T05:31:26.710454",
          "exception": false,
          "start_time": "2021-03-20T05:31:26.681924",
          "status": "completed"
        },
        "tags": []
      },
      "source": [
        "## Background:\n",
        "\n",
        "1. NBA playoff is a best-of-seven elimination tournament.\n",
        "2. There are 16 competing teams; 8 initial pairs.\n",
        "3. Each pair will play up-to 7 games, so it takes 4 games to win.\n",
        "4. A total of 4 rounds are required to win the championship 🏆.\n",
        "\n",
        "Since 2020 season the NBA adds a Play-in tournanment before the start of the playoffs.\n",
        "So prior to the BO7 series, we have 3 games per conference.\n",
        "7th seed plays against 8th seed for the spot against the 2nd seed.\n",
        "Loser plays the winner of the game between 9th and 10th seed. Winner of this game plays the 1st seed in the first round of the playoffs."
      ]
    },
    {
      "cell_type": "markdown",
      "metadata": {
        "id": "7fcRrvkPletH",
        "papermill": {
          "duration": 0.028492,
          "end_time": "2021-03-20T05:31:26.768031",
          "exception": false,
          "start_time": "2021-03-20T05:31:26.739539",
          "status": "completed"
        },
        "tags": []
      },
      "source": [
        "## Our Goal: \n",
        "\n",
        "Our goal is to predict the probability of winning for each team and at each round of the playoff, in order to see who may win the championship."
      ]
    },
    {
      "cell_type": "markdown",
      "metadata": {
        "id": "Y3TKnzbeletI",
        "papermill": {
          "duration": 0.02853,
          "end_time": "2021-03-20T05:31:26.825367",
          "exception": false,
          "start_time": "2021-03-20T05:31:26.796837",
          "status": "completed"
        },
        "tags": []
      },
      "source": [
        "## Workflow:\n",
        "\n",
        "1. Data cleaning\n",
        "2. Fit a win/loss Discriminator(D)\n",
        "3. Fit a feature Generator(G)\n",
        "4. Run n_simulations with both D and G according to the rules of playoff\n",
        "5. Visualization"
      ]
    },
    {
      "cell_type": "markdown",
      "metadata": {
        "id": "WIOF9wK1letJ",
        "papermill": {
          "duration": 0.028712,
          "end_time": "2021-03-20T05:31:26.883136",
          "exception": false,
          "start_time": "2021-03-20T05:31:26.854424",
          "status": "completed"
        },
        "tags": []
      },
      "source": [
        "# 1. Data Cleaning"
      ]
    },
    {
      "cell_type": "code",
      "execution_count": 39,
      "metadata": {
        "colab": {
          "base_uri": "https://localhost:8080/"
        },
        "execution": {
          "iopub.execute_input": "2021-03-20T05:31:26.945172Z",
          "iopub.status.busy": "2021-03-20T05:31:26.944444Z",
          "iopub.status.idle": "2021-03-20T05:31:27.149624Z",
          "shell.execute_reply": "2021-03-20T05:31:27.149056Z"
        },
        "id": "o9sVMWJIletK",
        "outputId": "2a249163-63e6-4f8e-d2ab-4786b0aec937",
        "papermill": {
          "duration": 0.237627,
          "end_time": "2021-03-20T05:31:27.149764",
          "exception": false,
          "start_time": "2021-03-20T05:31:26.912137",
          "status": "completed"
        },
        "tags": []
      },
      "outputs": [
        {
          "data": {
            "text/html": [
              "<div>\n",
              "<style scoped>\n",
              "    .dataframe tbody tr th:only-of-type {\n",
              "        vertical-align: middle;\n",
              "    }\n",
              "\n",
              "    .dataframe tbody tr th {\n",
              "        vertical-align: top;\n",
              "    }\n",
              "\n",
              "    .dataframe thead th {\n",
              "        text-align: right;\n",
              "    }\n",
              "</style>\n",
              "<table border=\"1\" class=\"dataframe\">\n",
              "  <thead>\n",
              "    <tr style=\"text-align: right;\">\n",
              "      <th></th>\n",
              "      <th>Unnamed: 0</th>\n",
              "      <th>GAME_ID</th>\n",
              "      <th>GAME_DATE</th>\n",
              "      <th>HOME_TEAM_WIN</th>\n",
              "      <th>HOME_TEAM_ID</th>\n",
              "      <th>HOME_TEAM_NAME</th>\n",
              "      <th>HOME_FGM</th>\n",
              "      <th>HOME_FGA</th>\n",
              "      <th>HOME_FG_PCT</th>\n",
              "      <th>HOME_FTM</th>\n",
              "      <th>...</th>\n",
              "      <th>AWAY_FG3_PCT</th>\n",
              "      <th>AWAY_OREB</th>\n",
              "      <th>AWAY_DREB</th>\n",
              "      <th>AWAY_REB</th>\n",
              "      <th>AWAY_AST</th>\n",
              "      <th>AWAY_STL</th>\n",
              "      <th>AWAY_BLK</th>\n",
              "      <th>AWAY_TOV</th>\n",
              "      <th>AWAY_PF</th>\n",
              "      <th>AWAY_PTS</th>\n",
              "    </tr>\n",
              "  </thead>\n",
              "  <tbody>\n",
              "    <tr>\n",
              "      <th>0</th>\n",
              "      <td>11997</td>\n",
              "      <td>21201202</td>\n",
              "      <td>2013-04-15</td>\n",
              "      <td>1</td>\n",
              "      <td>CHA</td>\n",
              "      <td>Charlotte Bobcats</td>\n",
              "      <td>43</td>\n",
              "      <td>74</td>\n",
              "      <td>0.581</td>\n",
              "      <td>13</td>\n",
              "      <td>...</td>\n",
              "      <td>0.378</td>\n",
              "      <td>3</td>\n",
              "      <td>22</td>\n",
              "      <td>25</td>\n",
              "      <td>27</td>\n",
              "      <td>5</td>\n",
              "      <td>1</td>\n",
              "      <td>8</td>\n",
              "      <td>15</td>\n",
              "      <td>95</td>\n",
              "    </tr>\n",
              "    <tr>\n",
              "      <th>1</th>\n",
              "      <td>12006</td>\n",
              "      <td>21201203</td>\n",
              "      <td>2013-04-15</td>\n",
              "      <td>0</td>\n",
              "      <td>ORL</td>\n",
              "      <td>Orlando Magic</td>\n",
              "      <td>31</td>\n",
              "      <td>74</td>\n",
              "      <td>0.419</td>\n",
              "      <td>20</td>\n",
              "      <td>...</td>\n",
              "      <td>0.529</td>\n",
              "      <td>8</td>\n",
              "      <td>27</td>\n",
              "      <td>35</td>\n",
              "      <td>33</td>\n",
              "      <td>6</td>\n",
              "      <td>4</td>\n",
              "      <td>14</td>\n",
              "      <td>25</td>\n",
              "      <td>102</td>\n",
              "    </tr>\n",
              "    <tr>\n",
              "      <th>2</th>\n",
              "      <td>11999</td>\n",
              "      <td>21201204</td>\n",
              "      <td>2013-04-15</td>\n",
              "      <td>0</td>\n",
              "      <td>CLE</td>\n",
              "      <td>Cleveland Cavaliers</td>\n",
              "      <td>39</td>\n",
              "      <td>86</td>\n",
              "      <td>0.453</td>\n",
              "      <td>12</td>\n",
              "      <td>...</td>\n",
              "      <td>0.464</td>\n",
              "      <td>10</td>\n",
              "      <td>35</td>\n",
              "      <td>45</td>\n",
              "      <td>25</td>\n",
              "      <td>2</td>\n",
              "      <td>8</td>\n",
              "      <td>17</td>\n",
              "      <td>19</td>\n",
              "      <td>96</td>\n",
              "    </tr>\n",
              "    <tr>\n",
              "      <th>3</th>\n",
              "      <td>11996</td>\n",
              "      <td>21201205</td>\n",
              "      <td>2013-04-15</td>\n",
              "      <td>1</td>\n",
              "      <td>BKN</td>\n",
              "      <td>Brooklyn Nets</td>\n",
              "      <td>43</td>\n",
              "      <td>92</td>\n",
              "      <td>0.467</td>\n",
              "      <td>13</td>\n",
              "      <td>...</td>\n",
              "      <td>0.364</td>\n",
              "      <td>11</td>\n",
              "      <td>33</td>\n",
              "      <td>44</td>\n",
              "      <td>24</td>\n",
              "      <td>8</td>\n",
              "      <td>6</td>\n",
              "      <td>19</td>\n",
              "      <td>23</td>\n",
              "      <td>101</td>\n",
              "    </tr>\n",
              "    <tr>\n",
              "      <th>4</th>\n",
              "      <td>12003</td>\n",
              "      <td>21201206</td>\n",
              "      <td>2013-04-15</td>\n",
              "      <td>1</td>\n",
              "      <td>DET</td>\n",
              "      <td>Detroit Pistons</td>\n",
              "      <td>41</td>\n",
              "      <td>83</td>\n",
              "      <td>0.494</td>\n",
              "      <td>18</td>\n",
              "      <td>...</td>\n",
              "      <td>0.273</td>\n",
              "      <td>13</td>\n",
              "      <td>26</td>\n",
              "      <td>39</td>\n",
              "      <td>25</td>\n",
              "      <td>10</td>\n",
              "      <td>5</td>\n",
              "      <td>12</td>\n",
              "      <td>15</td>\n",
              "      <td>101</td>\n",
              "    </tr>\n",
              "  </tbody>\n",
              "</table>\n",
              "<p>5 rows × 44 columns</p>\n",
              "</div>"
            ],
            "text/plain": [
              "   Unnamed: 0   GAME_ID   GAME_DATE  HOME_TEAM_WIN HOME_TEAM_ID   \n",
              "0       11997  21201202  2013-04-15              1          CHA  \\\n",
              "1       12006  21201203  2013-04-15              0          ORL   \n",
              "2       11999  21201204  2013-04-15              0          CLE   \n",
              "3       11996  21201205  2013-04-15              1          BKN   \n",
              "4       12003  21201206  2013-04-15              1          DET   \n",
              "\n",
              "        HOME_TEAM_NAME  HOME_FGM  HOME_FGA  HOME_FG_PCT  HOME_FTM  ...   \n",
              "0    Charlotte Bobcats        43        74        0.581        13  ...  \\\n",
              "1        Orlando Magic        31        74        0.419        20  ...   \n",
              "2  Cleveland Cavaliers        39        86        0.453        12  ...   \n",
              "3        Brooklyn Nets        43        92        0.467        13  ...   \n",
              "4      Detroit Pistons        41        83        0.494        18  ...   \n",
              "\n",
              "   AWAY_FG3_PCT  AWAY_OREB  AWAY_DREB  AWAY_REB  AWAY_AST  AWAY_STL  AWAY_BLK   \n",
              "0         0.378          3         22        25        27         5         1  \\\n",
              "1         0.529          8         27        35        33         6         4   \n",
              "2         0.464         10         35        45        25         2         8   \n",
              "3         0.364         11         33        44        24         8         6   \n",
              "4         0.273         13         26        39        25        10         5   \n",
              "\n",
              "   AWAY_TOV  AWAY_PF  AWAY_PTS  \n",
              "0         8       15        95  \n",
              "1        14       25       102  \n",
              "2        17       19        96  \n",
              "3        19       23       101  \n",
              "4        12       15       101  \n",
              "\n",
              "[5 rows x 44 columns]"
            ]
          },
          "execution_count": 39,
          "metadata": {},
          "output_type": "execute_result"
        }
      ],
      "source": [
        "df = pd.read_csv(\"data/games.csv\")\n",
        "\n",
        "df.head() "
      ]
    },
    {
      "cell_type": "code",
      "execution_count": 40,
      "metadata": {
        "colab": {
          "base_uri": "https://localhost:8080/"
        },
        "execution": {
          "iopub.execute_input": "2021-03-20T05:31:27.216967Z",
          "iopub.status.busy": "2021-03-20T05:31:27.216292Z",
          "iopub.status.idle": "2021-03-20T05:31:27.264972Z",
          "shell.execute_reply": "2021-03-20T05:31:27.264392Z"
        },
        "id": "30pC8S3TletL",
        "outputId": "c55fd472-debb-4ea7-a790-a4996f7f6f00",
        "papermill": {
          "duration": 0.086048,
          "end_time": "2021-03-20T05:31:27.265121",
          "exception": false,
          "start_time": "2021-03-20T05:31:27.179073",
          "status": "completed"
        },
        "tags": []
      },
      "outputs": [
        {
          "data": {
            "text/plain": [
              "False"
            ]
          },
          "execution_count": 40,
          "metadata": {},
          "output_type": "execute_result"
        }
      ],
      "source": [
        "# sort dataframe by date\n",
        "df = df.sort_values(by='GAME_DATE').reset_index(drop = True)\n",
        "# drop empty entries, data before 2004 contains NaN\n",
        "df = df.loc[df['GAME_DATE'] >= \"2004-01-01\"].reset_index(drop=True)\n",
        "# check null\n",
        "df.isnull().values.any() "
      ]
    },
    {
      "cell_type": "markdown",
      "metadata": {
        "id": "hwoSv9R9letO",
        "papermill": {
          "duration": 0.030943,
          "end_time": "2021-03-20T05:31:27.609512",
          "exception": false,
          "start_time": "2021-03-20T05:31:27.578569",
          "status": "completed"
        },
        "tags": []
      },
      "source": [
        "# 2. Fitting an SVM win/loss discriminator"
      ]
    },
    {
      "cell_type": "code",
      "execution_count": 41,
      "metadata": {
        "execution": {
          "iopub.execute_input": "2021-03-20T05:31:27.675291Z",
          "iopub.status.busy": "2021-03-20T05:31:27.674610Z",
          "iopub.status.idle": "2021-03-20T05:31:27.692598Z",
          "shell.execute_reply": "2021-03-20T05:31:27.692040Z"
        },
        "id": "P63Q57V-letP",
        "papermill": {
          "duration": 0.052149,
          "end_time": "2021-03-20T05:31:27.692754",
          "exception": false,
          "start_time": "2021-03-20T05:31:27.640605",
          "status": "completed"
        },
        "tags": []
      },
      "outputs": [],
      "source": [
        "# we want to try and predict the 2022-2023 NBA play off results starting 2023-04-11\n",
        "# hence, this portion of the data is held out\n",
        "df = df.loc[df['GAME_DATE'] < '2023-04-11'].reset_index(drop=True)"
      ]
    },
    {
      "cell_type": "code",
      "execution_count": 42,
      "metadata": {
        "colab": {
          "base_uri": "https://localhost:8080/"
        },
        "execution": {
          "iopub.execute_input": "2021-03-20T05:31:27.761420Z",
          "iopub.status.busy": "2021-03-20T05:31:27.760746Z",
          "iopub.status.idle": "2021-03-20T05:31:27.765533Z",
          "shell.execute_reply": "2021-03-20T05:31:27.764944Z"
        },
        "id": "M89JL4ZwletP",
        "outputId": "59a61b84-185c-43a9-fb80-f69a5b2b7091",
        "papermill": {
          "duration": 0.041502,
          "end_time": "2021-03-20T05:31:27.765680",
          "exception": false,
          "start_time": "2021-03-20T05:31:27.724178",
          "status": "completed"
        },
        "tags": []
      },
      "outputs": [
        {
          "data": {
            "text/plain": [
              "['Unnamed: 0',\n",
              " 'GAME_ID',\n",
              " 'GAME_DATE',\n",
              " 'HOME_TEAM_WIN',\n",
              " 'HOME_TEAM_ID',\n",
              " 'HOME_TEAM_NAME',\n",
              " 'HOME_FGM',\n",
              " 'HOME_FGA',\n",
              " 'HOME_FG_PCT',\n",
              " 'HOME_FTM',\n",
              " 'HOME_FTA',\n",
              " 'HOME_FT_PCT',\n",
              " 'HOME_FG3M',\n",
              " 'HOME_FG3A',\n",
              " 'HOME_FG3_PCT',\n",
              " 'HOME_OREB',\n",
              " 'HOME_DREB',\n",
              " 'HOME_REB',\n",
              " 'HOME_AST',\n",
              " 'HOME_STL',\n",
              " 'HOME_BLK',\n",
              " 'HOME_TOV',\n",
              " 'HOME_PF',\n",
              " 'HOME_PTS',\n",
              " 'AWAY_TEAM_ID',\n",
              " 'AWAY_TEAM_NAME',\n",
              " 'AWAY_FGM',\n",
              " 'AWAY_FGA',\n",
              " 'AWAY_FG_PCT',\n",
              " 'AWAY_FTM',\n",
              " 'AWAY_FTA',\n",
              " 'AWAY_FT_PCT',\n",
              " 'AWAY_FG3M',\n",
              " 'AWAY_FG3A',\n",
              " 'AWAY_FG3_PCT',\n",
              " 'AWAY_OREB',\n",
              " 'AWAY_DREB',\n",
              " 'AWAY_REB',\n",
              " 'AWAY_AST',\n",
              " 'AWAY_STL',\n",
              " 'AWAY_BLK',\n",
              " 'AWAY_TOV',\n",
              " 'AWAY_PF',\n",
              " 'AWAY_PTS']"
            ]
          },
          "execution_count": 42,
          "metadata": {},
          "output_type": "execute_result"
        }
      ],
      "source": [
        "feature_list = list(df.columns)\n",
        "feature_list"
      ]
    },
    {
      "cell_type": "code",
      "execution_count": 43,
      "metadata": {
        "colab": {
          "base_uri": "https://localhost:8080/"
        },
        "execution": {
          "iopub.execute_input": "2021-03-20T05:31:27.833507Z",
          "iopub.status.busy": "2021-03-20T05:31:27.832511Z",
          "iopub.status.idle": "2021-03-20T05:31:27.853921Z",
          "shell.execute_reply": "2021-03-20T05:31:27.854515Z"
        },
        "id": "oZvNGyeRletQ",
        "outputId": "c1de4d0f-476f-4d63-ff30-677b4ff39388",
        "papermill": {
          "duration": 0.057096,
          "end_time": "2021-03-20T05:31:27.854701",
          "exception": false,
          "start_time": "2021-03-20T05:31:27.797605",
          "status": "completed"
        },
        "tags": []
      },
      "outputs": [
        {
          "data": {
            "text/html": [
              "<div>\n",
              "<style scoped>\n",
              "    .dataframe tbody tr th:only-of-type {\n",
              "        vertical-align: middle;\n",
              "    }\n",
              "\n",
              "    .dataframe tbody tr th {\n",
              "        vertical-align: top;\n",
              "    }\n",
              "\n",
              "    .dataframe thead th {\n",
              "        text-align: right;\n",
              "    }\n",
              "</style>\n",
              "<table border=\"1\" class=\"dataframe\">\n",
              "  <thead>\n",
              "    <tr style=\"text-align: right;\">\n",
              "      <th></th>\n",
              "      <th>HOME_PTS</th>\n",
              "      <th>AWAY_PTS</th>\n",
              "    </tr>\n",
              "  </thead>\n",
              "  <tbody>\n",
              "    <tr>\n",
              "      <th>0</th>\n",
              "      <td>106</td>\n",
              "      <td>95</td>\n",
              "    </tr>\n",
              "    <tr>\n",
              "      <th>1</th>\n",
              "      <td>116</td>\n",
              "      <td>106</td>\n",
              "    </tr>\n",
              "    <tr>\n",
              "      <th>2</th>\n",
              "      <td>80</td>\n",
              "      <td>96</td>\n",
              "    </tr>\n",
              "    <tr>\n",
              "      <th>3</th>\n",
              "      <td>104</td>\n",
              "      <td>95</td>\n",
              "    </tr>\n",
              "    <tr>\n",
              "      <th>4</th>\n",
              "      <td>97</td>\n",
              "      <td>103</td>\n",
              "    </tr>\n",
              "  </tbody>\n",
              "</table>\n",
              "</div>"
            ],
            "text/plain": [
              "   HOME_PTS  AWAY_PTS\n",
              "0       106        95\n",
              "1       116       106\n",
              "2        80        96\n",
              "3       104        95\n",
              "4        97       103"
            ]
          },
          "execution_count": 43,
          "metadata": {},
          "output_type": "execute_result"
        }
      ],
      "source": [
        "#✍To predict win/loss of a game, we can use one of the two ways:\n",
        "\n",
        "#1. Select only one feature (points), the win/loss prediction is just based on which team has the higher point.\n",
        "wanted_features = [\n",
        "    'PTS'\n",
        "    ]\n",
        "\n",
        "#2. Select features other than points, the win/loss is then based on the prediction of a classifier which takes those features as inputs.\n",
        "# selected_features = [\n",
        "#     'FG_PCT', 'FT_PCT', 'FG3_PCT', 'AST', 'REB',\n",
        "#     ]\n",
        "\n",
        "selected_features = []\n",
        "for feature in wanted_features:\n",
        "    selected_features.append('HOME_'+feature)\n",
        "    selected_features.append('AWAY_'+feature)\n",
        "\n",
        "# check the features we selected\n",
        "X = df[selected_features]\n",
        "X.head()"
      ]
    },
    {
      "cell_type": "code",
      "execution_count": 44,
      "metadata": {
        "colab": {
          "base_uri": "https://localhost:8080/"
        },
        "execution": {
          "iopub.execute_input": "2021-03-20T05:31:27.926688Z",
          "iopub.status.busy": "2021-03-20T05:31:27.926063Z",
          "iopub.status.idle": "2021-03-20T05:31:27.929726Z",
          "shell.execute_reply": "2021-03-20T05:31:27.930220Z"
        },
        "id": "vtcJpg4HletR",
        "outputId": "75e4bd0d-e1d0-46c6-9d59-e7cf9b216890",
        "papermill": {
          "duration": 0.042893,
          "end_time": "2021-03-20T05:31:27.930391",
          "exception": false,
          "start_time": "2021-03-20T05:31:27.887498",
          "status": "completed"
        },
        "tags": []
      },
      "outputs": [
        {
          "data": {
            "text/plain": [
              "0    1\n",
              "1    1\n",
              "2    0\n",
              "3    1\n",
              "4    0\n",
              "Name: HOME_TEAM_WIN, dtype: int64"
            ]
          },
          "execution_count": 44,
          "metadata": {},
          "output_type": "execute_result"
        }
      ],
      "source": [
        "# check the targets\n",
        "y = df['HOME_TEAM_WIN']\n",
        "y.head()"
      ]
    },
    {
      "cell_type": "code",
      "execution_count": 45,
      "metadata": {
        "execution": {
          "iopub.execute_input": "2021-03-20T05:31:27.999848Z",
          "iopub.status.busy": "2021-03-20T05:31:27.999231Z",
          "iopub.status.idle": "2021-03-20T05:31:28.004510Z",
          "shell.execute_reply": "2021-03-20T05:31:28.003874Z"
        },
        "id": "jJ8zOeTkletR",
        "papermill": {
          "duration": 0.040952,
          "end_time": "2021-03-20T05:31:28.004690",
          "exception": false,
          "start_time": "2021-03-20T05:31:27.963738",
          "status": "completed"
        },
        "tags": []
      },
      "outputs": [],
      "source": [
        "# turn them into numpy arrays for training\n",
        "\n",
        "X = X.to_numpy()\n",
        "y = y.to_numpy()"
      ]
    },
    {
      "cell_type": "markdown",
      "metadata": {
        "id": "xng8pzjcletS",
        "papermill": {
          "duration": 0.040006,
          "end_time": "2021-03-20T05:31:28.078045",
          "exception": false,
          "start_time": "2021-03-20T05:31:28.038039",
          "status": "completed"
        },
        "tags": []
      },
      "source": [
        "## Fitting SVM "
      ]
    },
    {
      "cell_type": "code",
      "execution_count": 46,
      "metadata": {
        "colab": {
          "base_uri": "https://localhost:8080/"
        },
        "execution": {
          "iopub.execute_input": "2021-03-20T05:31:28.165940Z",
          "iopub.status.busy": "2021-03-20T05:31:28.164958Z",
          "iopub.status.idle": "2021-03-20T05:31:28.170682Z",
          "shell.execute_reply": "2021-03-20T05:31:28.170174Z"
        },
        "id": "P9x4Cg4lletS",
        "outputId": "0317ff56-158f-4b2c-d4c6-08ec4cfba88a",
        "papermill": {
          "duration": 0.054678,
          "end_time": "2021-03-20T05:31:28.170831",
          "exception": false,
          "start_time": "2021-03-20T05:31:28.116153",
          "status": "completed"
        },
        "tags": []
      },
      "outputs": [
        {
          "name": "stdout",
          "output_type": "stream",
          "text": [
            "X shape (8404, 2) y shape (8404,)\n"
          ]
        }
      ],
      "source": [
        "# train test split\n",
        "X_train, X_test, y_train, y_test = train_test_split(\n",
        "    X, \n",
        "    y, \n",
        "    test_size=0.3, random_state=42)\n",
        "\n",
        "print(\"X shape\", X_train.shape, \"y shape\", y_train.shape)"
      ]
    },
    {
      "cell_type": "code",
      "execution_count": 47,
      "metadata": {
        "execution": {
          "iopub.execute_input": "2021-03-20T05:31:28.262680Z",
          "iopub.status.busy": "2021-03-20T05:31:28.261507Z",
          "iopub.status.idle": "2021-03-20T05:31:28.269340Z",
          "shell.execute_reply": "2021-03-20T05:31:28.269822Z"
        },
        "id": "XLmJTLv-letT",
        "papermill": {
          "duration": 0.049423,
          "end_time": "2021-03-20T05:31:28.270043",
          "exception": false,
          "start_time": "2021-03-20T05:31:28.220620",
          "status": "completed"
        },
        "tags": []
      },
      "outputs": [],
      "source": [
        "# feature scaling\n",
        "\n",
        "scaler = StandardScaler() # initialize an instance \n",
        "X_train = scaler.fit_transform(X_train) "
      ]
    },
    {
      "cell_type": "code",
      "execution_count": 48,
      "metadata": {
        "colab": {
          "base_uri": "https://localhost:8080/"
        },
        "execution": {
          "iopub.execute_input": "2021-03-20T05:31:28.341834Z",
          "iopub.status.busy": "2021-03-20T05:31:28.340873Z",
          "iopub.status.idle": "2021-03-20T05:31:37.427738Z",
          "shell.execute_reply": "2021-03-20T05:31:37.428419Z"
        },
        "id": "usSVdOfDletT",
        "outputId": "82cb7dad-03ae-493c-9900-e821469e5aff",
        "papermill": {
          "duration": 9.124604,
          "end_time": "2021-03-20T05:31:37.428670",
          "exception": false,
          "start_time": "2021-03-20T05:31:28.304066",
          "status": "completed"
        },
        "tags": []
      },
      "outputs": [
        {
          "name": "stdout",
          "output_type": "stream",
          "text": [
            "balanced accuracy score: 0.9997630331753555\n",
            "CPU times: total: 203 ms\n",
            "Wall time: 287 ms\n"
          ]
        }
      ],
      "source": [
        "%%time \n",
        "\n",
        "# train SVM\n",
        "\n",
        "clf = svm.SVC(kernel='linear') # initialize a model\n",
        "clf.fit(X_train, y_train) # fit(train) it with the training data and targets\n",
        "\n",
        "# check test score \n",
        "y_pred = clf.predict(X_test) \n",
        "print('balanced accuracy score:', balanced_accuracy_score(y_test, y_pred)) "
      ]
    },
    {
      "cell_type": "code",
      "execution_count": 49,
      "metadata": {
        "colab": {
          "base_uri": "https://localhost:8080/"
        },
        "execution": {
          "iopub.execute_input": "2021-03-20T05:31:37.505203Z",
          "iopub.status.busy": "2021-03-20T05:31:37.504201Z",
          "iopub.status.idle": "2021-03-20T05:38:21.497787Z",
          "shell.execute_reply": "2021-03-20T05:38:21.498301Z"
        },
        "id": "hUl4LgzfletU",
        "outputId": "6317c996-b9c9-466c-dbdc-34e292b70f9f",
        "papermill": {
          "duration": 404.03497,
          "end_time": "2021-03-20T05:38:21.498516",
          "exception": false,
          "start_time": "2021-03-20T05:31:37.463546",
          "status": "completed"
        },
        "tags": []
      },
      "outputs": [
        {
          "name": "stdout",
          "output_type": "stream",
          "text": [
            "Fitting 5 folds for each of 9 candidates, totalling 45 fits\n",
            "[CV] END .....................................C=0.1, gamma=1; total time=   0.2s\n",
            "[CV] END .....................................C=0.1, gamma=1; total time=   0.2s\n",
            "[CV] END .....................................C=0.1, gamma=1; total time=   0.1s\n",
            "[CV] END .....................................C=0.1, gamma=1; total time=   0.1s\n",
            "[CV] END .....................................C=0.1, gamma=1; total time=   0.1s\n",
            "[CV] END ...................................C=0.1, gamma=0.1; total time=   0.1s\n",
            "[CV] END ...................................C=0.1, gamma=0.1; total time=   0.1s\n",
            "[CV] END ...................................C=0.1, gamma=0.1; total time=   0.1s\n",
            "[CV] END ...................................C=0.1, gamma=0.1; total time=   0.1s\n",
            "[CV] END ...................................C=0.1, gamma=0.1; total time=   0.1s\n",
            "[CV] END ..................................C=0.1, gamma=0.01; total time=   0.1s\n",
            "[CV] END ..................................C=0.1, gamma=0.01; total time=   0.1s\n",
            "[CV] END ..................................C=0.1, gamma=0.01; total time=   0.0s\n",
            "[CV] END ..................................C=0.1, gamma=0.01; total time=   0.0s\n",
            "[CV] END ..................................C=0.1, gamma=0.01; total time=   0.1s\n",
            "[CV] END .......................................C=1, gamma=1; total time=   0.0s\n",
            "[CV] END .......................................C=1, gamma=1; total time=   0.0s\n",
            "[CV] END .......................................C=1, gamma=1; total time=   0.0s\n",
            "[CV] END .......................................C=1, gamma=1; total time=   0.0s\n",
            "[CV] END .......................................C=1, gamma=1; total time=   0.0s\n",
            "[CV] END .....................................C=1, gamma=0.1; total time=   0.0s\n",
            "[CV] END .....................................C=1, gamma=0.1; total time=   0.0s\n",
            "[CV] END .....................................C=1, gamma=0.1; total time=   0.0s\n",
            "[CV] END .....................................C=1, gamma=0.1; total time=   0.0s\n",
            "[CV] END .....................................C=1, gamma=0.1; total time=   0.0s\n",
            "[CV] END ....................................C=1, gamma=0.01; total time=   0.0s\n",
            "[CV] END ....................................C=1, gamma=0.01; total time=   0.0s\n",
            "[CV] END ....................................C=1, gamma=0.01; total time=   0.0s\n",
            "[CV] END ....................................C=1, gamma=0.01; total time=   0.0s\n",
            "[CV] END ....................................C=1, gamma=0.01; total time=   0.0s\n",
            "[CV] END ......................................C=10, gamma=1; total time=   0.0s\n",
            "[CV] END ......................................C=10, gamma=1; total time=   0.0s\n",
            "[CV] END ......................................C=10, gamma=1; total time=   0.0s\n",
            "[CV] END ......................................C=10, gamma=1; total time=   0.0s\n",
            "[CV] END ......................................C=10, gamma=1; total time=   0.0s\n",
            "[CV] END ....................................C=10, gamma=0.1; total time=   0.0s\n",
            "[CV] END ....................................C=10, gamma=0.1; total time=   0.0s\n",
            "[CV] END ....................................C=10, gamma=0.1; total time=   0.0s\n",
            "[CV] END ....................................C=10, gamma=0.1; total time=   0.0s\n",
            "[CV] END ....................................C=10, gamma=0.1; total time=   0.0s\n",
            "[CV] END ...................................C=10, gamma=0.01; total time=   0.0s\n",
            "[CV] END ...................................C=10, gamma=0.01; total time=   0.0s\n",
            "[CV] END ...................................C=10, gamma=0.01; total time=   0.0s\n",
            "[CV] END ...................................C=10, gamma=0.01; total time=   0.0s\n",
            "[CV] END ...................................C=10, gamma=0.01; total time=   0.0s\n",
            "CPU times: total: 4.2 s\n",
            "Wall time: 5.03 s\n"
          ]
        },
        {
          "data": {
            "text/html": [
              "<style>#sk-container-id-2 {color: black;background-color: white;}#sk-container-id-2 pre{padding: 0;}#sk-container-id-2 div.sk-toggleable {background-color: white;}#sk-container-id-2 label.sk-toggleable__label {cursor: pointer;display: block;width: 100%;margin-bottom: 0;padding: 0.3em;box-sizing: border-box;text-align: center;}#sk-container-id-2 label.sk-toggleable__label-arrow:before {content: \"▸\";float: left;margin-right: 0.25em;color: #696969;}#sk-container-id-2 label.sk-toggleable__label-arrow:hover:before {color: black;}#sk-container-id-2 div.sk-estimator:hover label.sk-toggleable__label-arrow:before {color: black;}#sk-container-id-2 div.sk-toggleable__content {max-height: 0;max-width: 0;overflow: hidden;text-align: left;background-color: #f0f8ff;}#sk-container-id-2 div.sk-toggleable__content pre {margin: 0.2em;color: black;border-radius: 0.25em;background-color: #f0f8ff;}#sk-container-id-2 input.sk-toggleable__control:checked~div.sk-toggleable__content {max-height: 200px;max-width: 100%;overflow: auto;}#sk-container-id-2 input.sk-toggleable__control:checked~label.sk-toggleable__label-arrow:before {content: \"▾\";}#sk-container-id-2 div.sk-estimator input.sk-toggleable__control:checked~label.sk-toggleable__label {background-color: #d4ebff;}#sk-container-id-2 div.sk-label input.sk-toggleable__control:checked~label.sk-toggleable__label {background-color: #d4ebff;}#sk-container-id-2 input.sk-hidden--visually {border: 0;clip: rect(1px 1px 1px 1px);clip: rect(1px, 1px, 1px, 1px);height: 1px;margin: -1px;overflow: hidden;padding: 0;position: absolute;width: 1px;}#sk-container-id-2 div.sk-estimator {font-family: monospace;background-color: #f0f8ff;border: 1px dotted black;border-radius: 0.25em;box-sizing: border-box;margin-bottom: 0.5em;}#sk-container-id-2 div.sk-estimator:hover {background-color: #d4ebff;}#sk-container-id-2 div.sk-parallel-item::after {content: \"\";width: 100%;border-bottom: 1px solid gray;flex-grow: 1;}#sk-container-id-2 div.sk-label:hover label.sk-toggleable__label {background-color: #d4ebff;}#sk-container-id-2 div.sk-serial::before {content: \"\";position: absolute;border-left: 1px solid gray;box-sizing: border-box;top: 0;bottom: 0;left: 50%;z-index: 0;}#sk-container-id-2 div.sk-serial {display: flex;flex-direction: column;align-items: center;background-color: white;padding-right: 0.2em;padding-left: 0.2em;position: relative;}#sk-container-id-2 div.sk-item {position: relative;z-index: 1;}#sk-container-id-2 div.sk-parallel {display: flex;align-items: stretch;justify-content: center;background-color: white;position: relative;}#sk-container-id-2 div.sk-item::before, #sk-container-id-2 div.sk-parallel-item::before {content: \"\";position: absolute;border-left: 1px solid gray;box-sizing: border-box;top: 0;bottom: 0;left: 50%;z-index: -1;}#sk-container-id-2 div.sk-parallel-item {display: flex;flex-direction: column;z-index: 1;position: relative;background-color: white;}#sk-container-id-2 div.sk-parallel-item:first-child::after {align-self: flex-end;width: 50%;}#sk-container-id-2 div.sk-parallel-item:last-child::after {align-self: flex-start;width: 50%;}#sk-container-id-2 div.sk-parallel-item:only-child::after {width: 0;}#sk-container-id-2 div.sk-dashed-wrapped {border: 1px dashed gray;margin: 0 0.4em 0.5em 0.4em;box-sizing: border-box;padding-bottom: 0.4em;background-color: white;}#sk-container-id-2 div.sk-label label {font-family: monospace;font-weight: bold;display: inline-block;line-height: 1.2em;}#sk-container-id-2 div.sk-label-container {text-align: center;}#sk-container-id-2 div.sk-container {/* jupyter's `normalize.less` sets `[hidden] { display: none; }` but bootstrap.min.css set `[hidden] { display: none !important; }` so we also need the `!important` here to be able to override the default hidden behavior on the sphinx rendered scikit-learn.org. See: https://github.com/scikit-learn/scikit-learn/issues/21755 */display: inline-block !important;position: relative;}#sk-container-id-2 div.sk-text-repr-fallback {display: none;}</style><div id=\"sk-container-id-2\" class=\"sk-top-container\"><div class=\"sk-text-repr-fallback\"><pre>GridSearchCV(estimator=SVC(kernel=&#x27;linear&#x27;),\n",
              "             param_grid={&#x27;C&#x27;: [0.1, 1, 10], &#x27;gamma&#x27;: [1, 0.1, 0.01]},\n",
              "             scoring=make_scorer(balanced_accuracy_score), verbose=2)</pre><b>In a Jupyter environment, please rerun this cell to show the HTML representation or trust the notebook. <br />On GitHub, the HTML representation is unable to render, please try loading this page with nbviewer.org.</b></div><div class=\"sk-container\" hidden><div class=\"sk-item sk-dashed-wrapped\"><div class=\"sk-label-container\"><div class=\"sk-label sk-toggleable\"><input class=\"sk-toggleable__control sk-hidden--visually\" id=\"sk-estimator-id-4\" type=\"checkbox\" ><label for=\"sk-estimator-id-4\" class=\"sk-toggleable__label sk-toggleable__label-arrow\">GridSearchCV</label><div class=\"sk-toggleable__content\"><pre>GridSearchCV(estimator=SVC(kernel=&#x27;linear&#x27;),\n",
              "             param_grid={&#x27;C&#x27;: [0.1, 1, 10], &#x27;gamma&#x27;: [1, 0.1, 0.01]},\n",
              "             scoring=make_scorer(balanced_accuracy_score), verbose=2)</pre></div></div></div><div class=\"sk-parallel\"><div class=\"sk-parallel-item\"><div class=\"sk-item\"><div class=\"sk-label-container\"><div class=\"sk-label sk-toggleable\"><input class=\"sk-toggleable__control sk-hidden--visually\" id=\"sk-estimator-id-5\" type=\"checkbox\" ><label for=\"sk-estimator-id-5\" class=\"sk-toggleable__label sk-toggleable__label-arrow\">estimator: SVC</label><div class=\"sk-toggleable__content\"><pre>SVC(kernel=&#x27;linear&#x27;)</pre></div></div></div><div class=\"sk-serial\"><div class=\"sk-item\"><div class=\"sk-estimator sk-toggleable\"><input class=\"sk-toggleable__control sk-hidden--visually\" id=\"sk-estimator-id-6\" type=\"checkbox\" ><label for=\"sk-estimator-id-6\" class=\"sk-toggleable__label sk-toggleable__label-arrow\">SVC</label><div class=\"sk-toggleable__content\"><pre>SVC(kernel=&#x27;linear&#x27;)</pre></div></div></div></div></div></div></div></div></div></div>"
            ],
            "text/plain": [
              "GridSearchCV(estimator=SVC(kernel='linear'),\n",
              "             param_grid={'C': [0.1, 1, 10], 'gamma': [1, 0.1, 0.01]},\n",
              "             scoring=make_scorer(balanced_accuracy_score), verbose=2)"
            ]
          },
          "execution_count": 49,
          "metadata": {},
          "output_type": "execute_result"
        }
      ],
      "source": [
        "%%time \n",
        "\n",
        "# fine-tuning hyperparameters\n",
        "\n",
        "scoring = make_scorer(balanced_accuracy_score)\n",
        "param_grid = {'C': [0.1, 1, 10],  \n",
        "              'gamma': [1,0.1,0.01]} #\n",
        "\n",
        "grid = GridSearchCV(svm.SVC(kernel='linear'), param_grid, scoring = scoring, refit=True, verbose=2) \n",
        "grid.fit(X_train, y_train)"
      ]
    },
    {
      "cell_type": "code",
      "execution_count": 50,
      "metadata": {
        "colab": {
          "base_uri": "https://localhost:8080/"
        },
        "execution": {
          "iopub.execute_input": "2021-03-20T05:38:21.601615Z",
          "iopub.status.busy": "2021-03-20T05:38:21.600819Z",
          "iopub.status.idle": "2021-03-20T05:38:21.604387Z",
          "shell.execute_reply": "2021-03-20T05:38:21.605051Z"
        },
        "id": "LIID0XKGletU",
        "outputId": "f464ff62-cc40-49ff-fef4-a0fc92fceffd",
        "papermill": {
          "duration": 0.058263,
          "end_time": "2021-03-20T05:38:21.605239",
          "exception": false,
          "start_time": "2021-03-20T05:38:21.546976",
          "status": "completed"
        },
        "tags": []
      },
      "outputs": [
        {
          "name": "stdout",
          "output_type": "stream",
          "text": [
            "SVC(C=0.1, gamma=1, kernel='linear')\n"
          ]
        }
      ],
      "source": [
        "# print the best model's hyperparameters\n",
        "Dis = grid.best_estimator_\n",
        "print(Dis) "
      ]
    },
    {
      "cell_type": "markdown",
      "metadata": {
        "id": "oenm0yB2letV",
        "papermill": {
          "duration": 0.049464,
          "end_time": "2021-03-20T05:38:21.704199",
          "exception": false,
          "start_time": "2021-03-20T05:38:21.654735",
          "status": "completed"
        },
        "tags": []
      },
      "source": [
        "# 3. Fitting a Generator"
      ]
    },
    {
      "cell_type": "code",
      "execution_count": 51,
      "metadata": {
        "colab": {
          "base_uri": "https://localhost:8080/"
        },
        "execution": {
          "iopub.execute_input": "2021-03-20T05:38:21.807759Z",
          "iopub.status.busy": "2021-03-20T05:38:21.806790Z",
          "iopub.status.idle": "2021-03-20T05:38:21.843946Z",
          "shell.execute_reply": "2021-03-20T05:38:21.844396Z"
        },
        "id": "Ez5v5FCvletV",
        "outputId": "df10ed7d-af39-46d4-d26e-2175bbd4f1d2",
        "papermill": {
          "duration": 0.090597,
          "end_time": "2021-03-20T05:38:21.844585",
          "exception": false,
          "start_time": "2021-03-20T05:38:21.753988",
          "status": "completed"
        },
        "tags": []
      },
      "outputs": [
        {
          "data": {
            "text/html": [
              "<div>\n",
              "<style scoped>\n",
              "    .dataframe tbody tr th:only-of-type {\n",
              "        vertical-align: middle;\n",
              "    }\n",
              "\n",
              "    .dataframe tbody tr th {\n",
              "        vertical-align: top;\n",
              "    }\n",
              "\n",
              "    .dataframe thead th {\n",
              "        text-align: right;\n",
              "    }\n",
              "</style>\n",
              "<table border=\"1\" class=\"dataframe\">\n",
              "  <thead>\n",
              "    <tr style=\"text-align: right;\">\n",
              "      <th></th>\n",
              "      <th>Unnamed: 0</th>\n",
              "      <th>GAME_ID</th>\n",
              "      <th>GAME_DATE</th>\n",
              "      <th>HOME_TEAM_WIN</th>\n",
              "      <th>HOME_TEAM_ID</th>\n",
              "      <th>HOME_TEAM_NAME</th>\n",
              "      <th>HOME_FGM</th>\n",
              "      <th>HOME_FGA</th>\n",
              "      <th>HOME_FG_PCT</th>\n",
              "      <th>HOME_FTM</th>\n",
              "      <th>...</th>\n",
              "      <th>AWAY_FG3_PCT</th>\n",
              "      <th>AWAY_OREB</th>\n",
              "      <th>AWAY_DREB</th>\n",
              "      <th>AWAY_REB</th>\n",
              "      <th>AWAY_AST</th>\n",
              "      <th>AWAY_STL</th>\n",
              "      <th>AWAY_BLK</th>\n",
              "      <th>AWAY_TOV</th>\n",
              "      <th>AWAY_PF</th>\n",
              "      <th>AWAY_PTS</th>\n",
              "    </tr>\n",
              "  </thead>\n",
              "  <tbody>\n",
              "    <tr>\n",
              "      <th>0</th>\n",
              "      <td>1229</td>\n",
              "      <td>22200001</td>\n",
              "      <td>2022-10-18</td>\n",
              "      <td>1</td>\n",
              "      <td>BOS</td>\n",
              "      <td>Boston Celtics</td>\n",
              "      <td>46</td>\n",
              "      <td>82</td>\n",
              "      <td>0.561</td>\n",
              "      <td>22</td>\n",
              "      <td>...</td>\n",
              "      <td>0.382</td>\n",
              "      <td>4</td>\n",
              "      <td>27</td>\n",
              "      <td>31</td>\n",
              "      <td>16</td>\n",
              "      <td>8</td>\n",
              "      <td>3</td>\n",
              "      <td>14</td>\n",
              "      <td>25</td>\n",
              "      <td>117</td>\n",
              "    </tr>\n",
              "    <tr>\n",
              "      <th>1</th>\n",
              "      <td>1228</td>\n",
              "      <td>22200002</td>\n",
              "      <td>2022-10-18</td>\n",
              "      <td>1</td>\n",
              "      <td>GSW</td>\n",
              "      <td>Golden State Warriors</td>\n",
              "      <td>45</td>\n",
              "      <td>99</td>\n",
              "      <td>0.455</td>\n",
              "      <td>17</td>\n",
              "      <td>...</td>\n",
              "      <td>0.250</td>\n",
              "      <td>9</td>\n",
              "      <td>39</td>\n",
              "      <td>48</td>\n",
              "      <td>23</td>\n",
              "      <td>12</td>\n",
              "      <td>4</td>\n",
              "      <td>21</td>\n",
              "      <td>18</td>\n",
              "      <td>109</td>\n",
              "    </tr>\n",
              "    <tr>\n",
              "      <th>2</th>\n",
              "      <td>1222</td>\n",
              "      <td>22200012</td>\n",
              "      <td>2022-10-19</td>\n",
              "      <td>1</td>\n",
              "      <td>UTA</td>\n",
              "      <td>Utah Jazz</td>\n",
              "      <td>42</td>\n",
              "      <td>83</td>\n",
              "      <td>0.506</td>\n",
              "      <td>23</td>\n",
              "      <td>...</td>\n",
              "      <td>0.227</td>\n",
              "      <td>10</td>\n",
              "      <td>25</td>\n",
              "      <td>35</td>\n",
              "      <td>21</td>\n",
              "      <td>10</td>\n",
              "      <td>3</td>\n",
              "      <td>21</td>\n",
              "      <td>23</td>\n",
              "      <td>102</td>\n",
              "    </tr>\n",
              "    <tr>\n",
              "      <th>3</th>\n",
              "      <td>1224</td>\n",
              "      <td>22200011</td>\n",
              "      <td>2022-10-19</td>\n",
              "      <td>0</td>\n",
              "      <td>SAS</td>\n",
              "      <td>San Antonio Spurs</td>\n",
              "      <td>40</td>\n",
              "      <td>99</td>\n",
              "      <td>0.404</td>\n",
              "      <td>15</td>\n",
              "      <td>...</td>\n",
              "      <td>0.448</td>\n",
              "      <td>14</td>\n",
              "      <td>37</td>\n",
              "      <td>51</td>\n",
              "      <td>26</td>\n",
              "      <td>7</td>\n",
              "      <td>10</td>\n",
              "      <td>15</td>\n",
              "      <td>20</td>\n",
              "      <td>129</td>\n",
              "    </tr>\n",
              "    <tr>\n",
              "      <th>4</th>\n",
              "      <td>1221</td>\n",
              "      <td>22200010</td>\n",
              "      <td>2022-10-19</td>\n",
              "      <td>1</td>\n",
              "      <td>MIN</td>\n",
              "      <td>Minnesota Timberwolves</td>\n",
              "      <td>39</td>\n",
              "      <td>94</td>\n",
              "      <td>0.415</td>\n",
              "      <td>27</td>\n",
              "      <td>...</td>\n",
              "      <td>0.311</td>\n",
              "      <td>16</td>\n",
              "      <td>41</td>\n",
              "      <td>57</td>\n",
              "      <td>22</td>\n",
              "      <td>6</td>\n",
              "      <td>6</td>\n",
              "      <td>13</td>\n",
              "      <td>26</td>\n",
              "      <td>108</td>\n",
              "    </tr>\n",
              "  </tbody>\n",
              "</table>\n",
              "<p>5 rows × 44 columns</p>\n",
              "</div>"
            ],
            "text/plain": [
              "   Unnamed: 0   GAME_ID   GAME_DATE  HOME_TEAM_WIN HOME_TEAM_ID   \n",
              "0        1229  22200001  2022-10-18              1          BOS  \\\n",
              "1        1228  22200002  2022-10-18              1          GSW   \n",
              "2        1222  22200012  2022-10-19              1          UTA   \n",
              "3        1224  22200011  2022-10-19              0          SAS   \n",
              "4        1221  22200010  2022-10-19              1          MIN   \n",
              "\n",
              "           HOME_TEAM_NAME  HOME_FGM  HOME_FGA  HOME_FG_PCT  HOME_FTM  ...   \n",
              "0          Boston Celtics        46        82        0.561        22  ...  \\\n",
              "1   Golden State Warriors        45        99        0.455        17  ...   \n",
              "2               Utah Jazz        42        83        0.506        23  ...   \n",
              "3       San Antonio Spurs        40        99        0.404        15  ...   \n",
              "4  Minnesota Timberwolves        39        94        0.415        27  ...   \n",
              "\n",
              "   AWAY_FG3_PCT  AWAY_OREB  AWAY_DREB  AWAY_REB  AWAY_AST  AWAY_STL  AWAY_BLK   \n",
              "0         0.382          4         27        31        16         8         3  \\\n",
              "1         0.250          9         39        48        23        12         4   \n",
              "2         0.227         10         25        35        21        10         3   \n",
              "3         0.448         14         37        51        26         7        10   \n",
              "4         0.311         16         41        57        22         6         6   \n",
              "\n",
              "   AWAY_TOV  AWAY_PF  AWAY_PTS  \n",
              "0        14       25       117  \n",
              "1        21       18       109  \n",
              "2        21       23       102  \n",
              "3        15       20       129  \n",
              "4        13       26       108  \n",
              "\n",
              "[5 rows x 44 columns]"
            ]
          },
          "execution_count": 51,
          "metadata": {},
          "output_type": "execute_result"
        }
      ],
      "source": [
        "# Like before, we had held out data from 2022-2023 playoff for real testing\n",
        "# Though large data is essential for fitting, for time-series problems, we give priority to the recent data most reflective of team's recent ability.\n",
        "# Since we aim to predict 2022-2023 playoff, here we will just fit the data from that regular session which starts in Oct, 2022.\n",
        "\n",
        "df_ = df.loc[df['GAME_DATE'] > '2022-10-01'].reset_index(drop=True)\n",
        "df_.head()"
      ]
    },
    {
      "cell_type": "code",
      "execution_count": 52,
      "metadata": {
        "execution": {
          "iopub.execute_input": "2021-03-20T05:38:21.948520Z",
          "iopub.status.busy": "2021-03-20T05:38:21.947824Z",
          "iopub.status.idle": "2021-03-20T05:38:21.953434Z",
          "shell.execute_reply": "2021-03-20T05:38:21.952802Z"
        },
        "id": "99I0MeABletW",
        "papermill": {
          "duration": 0.059209,
          "end_time": "2021-03-20T05:38:21.953586",
          "exception": false,
          "start_time": "2021-03-20T05:38:21.894377",
          "status": "completed"
        },
        "tags": []
      },
      "outputs": [],
      "source": [
        "# here we define the list of common distributions for fitting\n",
        "# use more distributions with fewer data points, because the distribution will be less \"normal\"\n",
        "\n",
        "selected_distributions = [\n",
        "    'norm','t', 'f', 'chi', 'cosine', 'alpha', \n",
        "    'beta', 'gamma', 'dgamma', 'dweibull',\n",
        "    'maxwell', 'pareto', 'fisk']\n"
      ]
    },
    {
      "cell_type": "code",
      "execution_count": 53,
      "metadata": {
        "execution": {
          "iopub.execute_input": "2021-03-20T05:38:22.065048Z",
          "iopub.status.busy": "2021-03-20T05:38:22.064303Z",
          "iopub.status.idle": "2021-03-20T05:38:22.186002Z",
          "shell.execute_reply": "2021-03-20T05:38:22.186542Z"
        },
        "id": "M4hGUj6MletW",
        "papermill": {
          "duration": 0.182037,
          "end_time": "2021-03-20T05:38:22.186720",
          "exception": false,
          "start_time": "2021-03-20T05:38:22.004683",
          "status": "completed"
        },
        "tags": []
      },
      "outputs": [],
      "source": [
        "unique_teams = df['HOME_TEAM_ID'].unique() # extract all the unique teams\n",
        "\n",
        "# Since we don't care about whether the team was a host or visitor in each game, \n",
        "# we can just combine the features for all games.\n",
        "\n",
        "# Get all the data for teams\n",
        "all_team_sim_data = {}\n",
        "\n",
        "for team_name in unique_teams:\n",
        "    \n",
        "    # find games where the team is either the host or guest\n",
        "    df_team = df_.loc[(df_['HOME_TEAM_ID'] == team_name) | (df_['AWAY_TEAM_ID'] == team_name)]\n",
        "    # it is home team, select the first 5 features\n",
        "    df_1 = df_team.loc[df_team['HOME_TEAM_ID'] == team_name][selected_features[:len(wanted_features)]]\n",
        "    # it is guest team, select the first 5 features\n",
        "    df_0 = df_team.loc[df_team['AWAY_TEAM_ID'] == team_name][selected_features[len(wanted_features):]]\n",
        "\n",
        "    # combine them\n",
        "    df_0.columns = df_1.columns # before concating, match the column names\n",
        "    df_s = pd.concat([df_1, df_0], axis = 0)\n",
        "    \n",
        "    # convert the pandas.DataFrame to numpy array\n",
        "    all_team_sim_data[team_name] = df_s.to_numpy()"
      ]
    },
    {
      "cell_type": "code",
      "execution_count": 55,
      "metadata": {
        "colab": {
          "base_uri": "https://localhost:8080/"
        },
        "execution": {
          "iopub.execute_input": "2021-03-20T05:38:22.291147Z",
          "iopub.status.busy": "2021-03-20T05:38:22.290140Z",
          "iopub.status.idle": "2021-03-20T05:41:00.937141Z",
          "shell.execute_reply": "2021-03-20T05:41:00.937688Z"
        },
        "id": "jprBGHcJletX",
        "outputId": "3c5ddb6e-22ec-4fd2-df04-07fa11edf34d",
        "papermill": {
          "duration": 158.70112,
          "end_time": "2021-03-20T05:41:00.937947",
          "exception": false,
          "start_time": "2021-03-20T05:38:22.236827",
          "status": "completed"
        },
        "tags": []
      },
      "outputs": [
        {
          "name": "stderr",
          "output_type": "stream",
          "text": [
            "Fitting 13 distributions: 100%|██████████| 13/13 [00:03<00:00,  3.84it/s]\n",
            "Fitting 13 distributions: 100%|██████████| 13/13 [00:01<00:00, 10.58it/s]\n",
            "Fitting 13 distributions: 100%|██████████| 13/13 [00:02<00:00,  6.02it/s]\n",
            "Fitting 13 distributions: 100%|██████████| 13/13 [00:02<00:00,  5.89it/s]\n",
            "Fitting 13 distributions: 100%|██████████| 13/13 [00:01<00:00,  7.01it/s]\n",
            "Fitting 13 distributions: 100%|██████████| 13/13 [00:01<00:00, 12.94it/s]\n",
            "Fitting 13 distributions: 100%|██████████| 13/13 [00:01<00:00,  8.66it/s]\n",
            "Fitting 13 distributions: 100%|██████████| 13/13 [00:02<00:00,  5.20it/s]\n",
            "Fitting 13 distributions: 100%|██████████| 13/13 [00:04<00:00,  2.99it/s]\n",
            "Fitting 13 distributions: 100%|██████████| 13/13 [00:03<00:00,  3.55it/s]\n",
            "Fitting 13 distributions: 100%|██████████| 13/13 [00:02<00:00,  4.54it/s]\n",
            "Fitting 13 distributions: 100%|██████████| 13/13 [00:01<00:00,  8.75it/s]\n",
            "Fitting 13 distributions: 100%|██████████| 13/13 [00:03<00:00,  4.25it/s]\n",
            "Fitting 13 distributions: 100%|██████████| 13/13 [00:01<00:00,  7.78it/s]\n",
            "Fitting 13 distributions: 100%|██████████| 13/13 [00:02<00:00,  5.00it/s]\n",
            "Fitting 13 distributions: 100%|██████████| 13/13 [00:02<00:00,  5.82it/s]\n",
            "Fitting 13 distributions: 100%|██████████| 13/13 [00:01<00:00, 11.64it/s]\n",
            "Fitting 13 distributions: 100%|██████████| 13/13 [00:01<00:00,  7.97it/s]\n",
            "Fitting 13 distributions: 100%|██████████| 13/13 [00:01<00:00,  8.12it/s]\n",
            "Fitting 13 distributions: 100%|██████████| 13/13 [00:02<00:00,  5.57it/s]\n",
            "Fitting 13 distributions: 100%|██████████| 13/13 [00:02<00:00,  4.87it/s]\n",
            "Fitting 13 distributions: 100%|██████████| 13/13 [00:02<00:00,  4.83it/s]\n",
            "Fitting 13 distributions: 100%|██████████| 13/13 [00:02<00:00,  5.13it/s]\n",
            "Fitting 13 distributions: 100%|██████████| 13/13 [00:01<00:00,  7.85it/s]\n",
            "Fitting 13 distributions: 100%|██████████| 13/13 [00:02<00:00,  5.02it/s]\n",
            "Fitting 13 distributions: 100%|██████████| 13/13 [00:01<00:00,  8.38it/s]\n",
            "Fitting 13 distributions: 100%|██████████| 13/13 [00:01<00:00,  8.58it/s]\n",
            "Fitting 13 distributions: 100%|██████████| 13/13 [00:02<00:00,  5.47it/s]\n",
            "Fitting 13 distributions: 100%|██████████| 13/13 [00:04<00:00,  2.98it/s]\n",
            "Fitting 13 distributions: 100%|██████████| 13/13 [00:02<00:00,  5.90it/s]"
          ]
        },
        {
          "name": "stdout",
          "output_type": "stream",
          "text": [
            "Features for all teams have been fitted!\n",
            "CPU times: total: 23.3 s\n",
            "Wall time: 1min 9s\n"
          ]
        },
        {
          "name": "stderr",
          "output_type": "stream",
          "text": [
            "\n"
          ]
        }
      ],
      "source": [
        "%%time\n",
        "\n",
        "# data format:\n",
        "#   team_name => list of feature distributions => dictionary with distribution name and parameters\n",
        "#   e.g.,\n",
        "#   megadata = {\n",
        "      #'Timberwolves': [{'beta': (0.23, 0.3, 0.3, 0.4)}, {'nor': (0.23, 0.3,)}, ..], \n",
        "      #'Warriors':[{}, {},...]\n",
        "      #  }\n",
        "    \n",
        "megadata = {} # store the data that our Generator will rely on\n",
        "for team_name in unique_teams:\n",
        "    \n",
        "    feature_dis_paras = []\n",
        "    data = all_team_sim_data[team_name]\n",
        "    \n",
        "    # 5 features for each team\n",
        "    for i in range(len(wanted_features)): \n",
        "        f = Fitter(data[:, i]) # initalize a Fitter instance\n",
        "        f.distributions = selected_distributions # use only the selected distributions (faster)\n",
        "        f.fit() # do the fitting \n",
        "        best_paras = f.get_best(method='sumsquare_error') # get the best fitted paras\n",
        "        feature_dis_paras.append(best_paras)\n",
        "        \n",
        "    megadata[team_name] = feature_dis_paras\n",
        "    \n",
        "print('Features for all teams have been fitted!')"
      ]
    },
    {
      "cell_type": "markdown",
      "metadata": {
        "id": "yt-W-ysYletX",
        "papermill": {
          "duration": 0.05123,
          "end_time": "2021-03-20T05:41:01.040771",
          "exception": false,
          "start_time": "2021-03-20T05:41:00.989541",
          "status": "completed"
        },
        "tags": []
      },
      "source": [
        "# 4. Simulation"
      ]
    },
    {
      "cell_type": "markdown",
      "metadata": {
        "id": "GvwNzcpDDeMk"
      },
      "source": [
        "## Class Game and Tournament"
      ]
    },
    {
      "cell_type": "code",
      "execution_count": 67,
      "metadata": {
        "execution": {
          "iopub.execute_input": "2021-03-20T05:41:01.151475Z",
          "iopub.status.busy": "2021-03-20T05:41:01.150469Z",
          "iopub.status.idle": "2021-03-20T05:41:01.153504Z",
          "shell.execute_reply": "2021-03-20T05:41:01.152843Z"
        },
        "id": "LDwQH7HOletY",
        "papermill": {
          "duration": 0.061895,
          "end_time": "2021-03-20T05:41:01.153652",
          "exception": false,
          "start_time": "2021-03-20T05:41:01.091757",
          "status": "completed"
        },
        "tags": []
      },
      "outputs": [],
      "source": [
        "\n",
        "DATA = megadata.copy() # data that Generator must rely on\n",
        "\n",
        "GEN = {\n",
        " 'alpha': stats.alpha.rvs,\n",
        " 'beta': stats.beta.rvs,\n",
        " 'chi': stats.chi.rvs,\n",
        " 'cosine': stats.cosine.rvs,\n",
        " 'dgamma': stats.dgamma.rvs,\n",
        " 'dweibull':stats.dweibull.rvs,\n",
        " 'f':stats.f.rvs,\n",
        " 'fisk':stats.fisk.rvs,\n",
        " 'gamma': stats.gamma.rvs,\n",
        " 'maxwell':stats.maxwell.rvs,\n",
        " 'norm':stats.norm.rvs,\n",
        " 'pareto':stats.pareto.rvs,\n",
        " 't':stats.t.rvs,\n",
        "}"
      ]
    },
    {
      "cell_type": "code",
      "execution_count": 68,
      "metadata": {
        "id": "dPdpzYLTI33t"
      },
      "outputs": [],
      "source": [
        "# DATA.items"
      ]
    },
    {
      "cell_type": "code",
      "execution_count": 69,
      "metadata": {
        "execution": {
          "iopub.execute_input": "2021-03-20T05:41:01.260066Z",
          "iopub.status.busy": "2021-03-20T05:41:01.259400Z",
          "iopub.status.idle": "2021-03-20T05:41:01.263241Z",
          "shell.execute_reply": "2021-03-20T05:41:01.263767Z"
        },
        "id": "e_qN2lp3letY",
        "papermill": {
          "duration": 0.05936,
          "end_time": "2021-03-20T05:41:01.263984",
          "exception": false,
          "start_time": "2021-03-20T05:41:01.204624",
          "status": "completed"
        },
        "tags": []
      },
      "outputs": [],
      "source": [
        "# feature scaler + fine-turned SVM \n",
        "DIS = make_pipeline(scaler, Dis)"
      ]
    },
    {
      "cell_type": "code",
      "execution_count": 70,
      "metadata": {
        "execution": {
          "iopub.execute_input": "2021-03-20T05:41:01.369805Z",
          "iopub.status.busy": "2021-03-20T05:41:01.369138Z",
          "iopub.status.idle": "2021-03-20T05:41:01.380571Z",
          "shell.execute_reply": "2021-03-20T05:41:01.380034Z"
        },
        "id": "5zAlkUmLletZ",
        "papermill": {
          "duration": 0.065447,
          "end_time": "2021-03-20T05:41:01.380726",
          "exception": false,
          "start_time": "2021-03-20T05:41:01.315279",
          "status": "completed"
        },
        "tags": []
      },
      "outputs": [],
      "source": [
        "class Game:\n",
        "    \n",
        "    '''\n",
        "    \n",
        "    A game between two teams:\n",
        "    \n",
        "    - feature values sampled from Generator\n",
        "    - win/loss predicted by Discriminator\n",
        "    \n",
        "    '''\n",
        "    \n",
        "    def __init__ (self, random_state = None):\n",
        "        \n",
        "        self.random_state = random_state # keep this to None for making simulations \n",
        "    \n",
        "    def predict(self, team1, team2, num_games = 1):\n",
        "        \n",
        "        ''' predict the win or loss of  n game(s) played by two tems'''\n",
        "        \n",
        "        assert num_games >= 1, \"at least one game must be played\"\n",
        "        # output numpy array\n",
        "        team_1_feature_data = DATA[team1]\n",
        "        team_2_feature_data = DATA[team2]\n",
        "        features = []\n",
        "        for feature_paras_1 in team_1_feature_data:\n",
        "            sample_1 = self.sampling(feature_paras_1, size = num_games) # gives a list if num_games> 1\n",
        "            features.append(sample_1) \n",
        "            \n",
        "        for feature_paras_2 in team_2_feature_data:\n",
        "            sample_2 = self.sampling(feature_paras_2, size = num_games) # gives a list if num_games> 1\n",
        "            features.append(sample_2)\n",
        "            \n",
        "        features = np.array(features).T \n",
        "        win_loss = DIS.predict(features)\n",
        "        \n",
        "        return list(win_loss) # a list of win/loss from num_games\n",
        "    \n",
        "    \n",
        "    def sampling(self, dic, size = 1, random_state = None):\n",
        "        \n",
        "        '''generate feature values used for making win/loss prediction'''\n",
        "                        \n",
        "        dis_name = list(dic.keys())[0] # get the type\n",
        "        paras = list(dic.values())[0] # get the paras\n",
        "        # print(\"parameters\",paras)\n",
        "    \n",
        "        # get sample\n",
        "        sample = GEN[dis_name](**paras, size = size,  random_state =  random_state)\n",
        "        # sample = stats.dgamma.rvs(*paras, size = size,  random_state =  random_state)\n",
        "            \n",
        "        return sample "
      ]
    },
    {
      "cell_type": "code",
      "execution_count": null,
      "metadata": {},
      "outputs": [],
      "source": [
        "class PlayInTournament(Game):\n",
        "    '''7th plays 8th seed. Winner takes 7th spot in the playoffs.\n",
        "    Loser plays winner of the 9th vs 10th seed game. The winner gets the last NBA playoffs spot.'''\n",
        "    \n",
        "    def __init__(self, n_games_per_group = 1, winning_threshold = 1, random_state = None):\n",
        "\n",
        "        self.n_games_per_group  = n_games_per_group\n",
        "        self.winning_threshold = winning_threshold\n",
        "        self.team_list = None\n",
        "        self.rounds = {} # keep track the number of times a team wins at each round \n",
        "        super().__init__(random_state)\n",
        "        \n",
        "    def simulate(self, group_list, n_simulation = 1, probs = True):\n",
        "        \n",
        "        ''' simulate the entire playoff n times and also record the accumulated wins'''\n",
        "             \n",
        "        # update the list of teams\n",
        "        self.rounds = {}\n",
        "        self.team_list = [i[0] for i in group_list] + [i[1] for i in group_list]\n",
        "        \n",
        "        for i in range(n_simulation):\n",
        "            cham = self.one_time_simu(group_list)\n",
        "        if probs:\n",
        "            self.rounds_probs =  self._compute_probs()\n",
        "            \n",
        "    \n",
        "    def one_time_simu(self, group_list, verbose = False, probs = False):\n",
        "        \n",
        "        ''' simulate the entire playoff once and also record the accumulated wins'''\n",
        "        \n",
        "        # update the list of teams if haven't done so\n",
        "        if self.team_list == None: \n",
        "            self.team_list = [i[0] for i in group_list] + [i[1] for i in group_list]\n",
        "        round_number, done = 0, 0\n",
        "        while not done: \n",
        "            all_group_winners, group_list = self.play_round(group_list)\n",
        "            # retrive round stats\n",
        "            try:\n",
        "                updated_round_stats = self.rounds[round_number]\n",
        "            except KeyError:\n",
        "                updated_round_stats = {}\n",
        "                for team in self.team_list:\n",
        "                    updated_round_stats[team] = 0\n",
        "            # if a team wins, record + 1 \n",
        "            for winner in all_group_winners:\n",
        "                try: \n",
        "                    updated_round_stats[winner] += 1\n",
        "                except KeyError:\n",
        "                    pass     \n",
        "            self.rounds[round_number] = updated_round_stats\n",
        "            if verbose:\n",
        "                print('{} round played'.format(round_number))\n",
        "            if probs:\n",
        "                self.rounds_probs = self._compute_probs()\n",
        "            if type(group_list) != list: # if it becomes the final\n",
        "                done = 1\n",
        "            round_number += 1\n",
        "            \n",
        "        return group_list\n",
        "\n",
        "        \n",
        "    def play_round(self, group_list):\n",
        "        \n",
        "        '''play a round of games based of a list of paired teams'''\n",
        "        \n",
        "        all_group_winners = [] \n",
        "        # play each group and get the group winner\n",
        "        for group in group_list:\n",
        "            winner = self.play_n_games(group[0], group[1])\n",
        "            all_group_winners.append(winner)\n",
        "        \n",
        "        if len(all_group_winners) > 1:\n",
        "            new_group_list = []         \n",
        "            for index in range(0, len(all_group_winners), 2):\n",
        "                # first winner, second winner\n",
        "                new_group = [all_group_winners[index], all_group_winners[index + 1]]\n",
        "                new_group_list.append(new_group)\n",
        "                \n",
        "            return all_group_winners, new_group_list\n",
        "        else:  \n",
        "            return all_group_winners, winner\n",
        "        \n",
        "        \n",
        "    def play_n_games(self, team1, team2):\n",
        "        \n",
        "        '''simulate data, and then use our classifier to predict win/loss'''\n",
        "        \n",
        "        result = Game().predict(team1, team2, self.n_games_per_group)\n",
        "        if sum(result[:4]) == self.winning_threshold or sum(result) >= self.winning_threshold:\n",
        "            winner = team1 # home team wins\n",
        "        else:\n",
        "            winner = team2 # visitor team wins\n",
        "            \n",
        "        return winner\n",
        "    \n",
        "    \n",
        "    def _compute_probs(self):\n",
        "        \n",
        "        '''prob = wins for a team / sum of wins for all teams at a particular round'''\n",
        "        \n",
        "        rounds_probs = copy.deepcopy(self.rounds)\n",
        "        for round_number, round_stats in rounds_probs.items():\n",
        "            m = np.sum(list(round_stats.values()))\n",
        "            for k, v in rounds_probs[round_number].items():\n",
        "                rounds_probs[round_number][k] = v / m\n",
        "                \n",
        "        return rounds_probs"
      ]
    },
    {
      "cell_type": "code",
      "execution_count": 71,
      "metadata": {
        "execution": {
          "iopub.execute_input": "2021-03-20T05:41:01.492287Z",
          "iopub.status.busy": "2021-03-20T05:41:01.486897Z",
          "iopub.status.idle": "2021-03-20T05:41:01.508161Z",
          "shell.execute_reply": "2021-03-20T05:41:01.507518Z"
        },
        "id": "aTPWIOP8letZ",
        "papermill": {
          "duration": 0.076227,
          "end_time": "2021-03-20T05:41:01.508328",
          "exception": false,
          "start_time": "2021-03-20T05:41:01.432101",
          "status": "completed"
        },
        "tags": []
      },
      "outputs": [],
      "source": [
        "class FinalTournament(Game):\n",
        "    \n",
        "    ''' Best-of-7 elimination, 16 teams, 4 rounds in total to win championship '''\n",
        "    \n",
        "    def __init__(self, n_games_per_group = 7, winning_threshold = 4, random_state = None):\n",
        "\n",
        "        self.n_games_per_group  = n_games_per_group\n",
        "        self.winning_threshold = winning_threshold\n",
        "        self.team_list = None\n",
        "        self.rounds = {} # keep track the number of times a team wins at each round \n",
        "        super().__init__(random_state)\n",
        "        \n",
        "    \n",
        "    def simulate(self, group_list, n_simulation = 1, probs = True):\n",
        "        \n",
        "        ''' simulate the entire playoff n times and also record the accumulated wins'''\n",
        "             \n",
        "        # update the list of teams\n",
        "        self.rounds = {}\n",
        "        self.team_list = [i[0] for i in group_list] + [i[1] for i in group_list]\n",
        "        \n",
        "        for i in range(n_simulation):\n",
        "            cham = self.one_time_simu(group_list)\n",
        "        if probs:\n",
        "            self.rounds_probs =  self._compute_probs()\n",
        "            \n",
        "    \n",
        "    def one_time_simu(self, group_list, verbose = False, probs = False):\n",
        "        \n",
        "        ''' simulate the entire playoff once and also record the accumulated wins'''\n",
        "        \n",
        "        # update the list of teams if haven't done so\n",
        "        if self.team_list == None: \n",
        "            self.team_list = [i[0] for i in group_list] + [i[1] for i in group_list]\n",
        "        round_number, done = 0, 0\n",
        "        while not done: \n",
        "            all_group_winners, group_list = self.play_round(group_list)\n",
        "            # retrive round stats\n",
        "            try:\n",
        "                updated_round_stats = self.rounds[round_number]\n",
        "            except KeyError:\n",
        "                updated_round_stats = {}\n",
        "                for team in self.team_list:\n",
        "                    updated_round_stats[team] = 0\n",
        "            # if a team wins, record + 1 \n",
        "            for winner in all_group_winners:\n",
        "                try: \n",
        "                    updated_round_stats[winner] += 1\n",
        "                except KeyError:\n",
        "                    pass     \n",
        "            self.rounds[round_number] = updated_round_stats\n",
        "            if verbose:\n",
        "                print('{} round played'.format(round_number))\n",
        "            if probs:\n",
        "                self.rounds_probs = self._compute_probs()\n",
        "            if type(group_list) != list: # if it becomes the final\n",
        "                done = 1\n",
        "            round_number += 1\n",
        "            \n",
        "        return group_list\n",
        "\n",
        "        \n",
        "    def play_round(self, group_list):\n",
        "        \n",
        "        '''play a round of games based of a list of paired teams'''\n",
        "        \n",
        "        all_group_winners = [] \n",
        "        # play each group and get the group winner\n",
        "        for group in group_list:\n",
        "            winner = self.play_n_games(group[0], group[1])\n",
        "            all_group_winners.append(winner)\n",
        "        \n",
        "        if len(all_group_winners) > 1:\n",
        "            new_group_list = []         \n",
        "            for index in range(0, len(all_group_winners), 2):\n",
        "                # first winner, second winner\n",
        "                new_group = [all_group_winners[index], all_group_winners[index + 1]]\n",
        "                new_group_list.append(new_group)\n",
        "                \n",
        "            return all_group_winners, new_group_list\n",
        "        else:  \n",
        "            return all_group_winners, winner\n",
        "        \n",
        "        \n",
        "    def play_n_games(self, team1, team2):\n",
        "        \n",
        "        '''simulate data, and then use our classifier to predict win/loss'''\n",
        "        \n",
        "        result = Game().predict(team1, team2, self.n_games_per_group)\n",
        "        if sum(result[:4]) == self.winning_threshold or sum(result) >= self.winning_threshold:\n",
        "            winner = team1 # home team wins\n",
        "        else:\n",
        "            winner = team2 # visitor team wins\n",
        "            \n",
        "        return winner\n",
        "    \n",
        "    \n",
        "    def _compute_probs(self):\n",
        "        \n",
        "        '''prob = wins for a team / sum of wins for all teams at a particular round'''\n",
        "        \n",
        "        rounds_probs = copy.deepcopy(self.rounds)\n",
        "        for round_number, round_stats in rounds_probs.items():\n",
        "            m = np.sum(list(round_stats.values()))\n",
        "            for k, v in rounds_probs[round_number].items():\n",
        "                rounds_probs[round_number][k] = v / m\n",
        "                \n",
        "        return rounds_probs"
      ]
    },
    {
      "cell_type": "markdown",
      "metadata": {
        "id": "rSHTocztDloe"
      },
      "source": [
        "## Simulation for 2022-2023 Regular season results"
      ]
    },
    {
      "cell_type": "code",
      "execution_count": 72,
      "metadata": {
        "execution": {
          "iopub.execute_input": "2021-03-20T05:41:01.618115Z",
          "iopub.status.busy": "2021-03-20T05:41:01.617418Z",
          "iopub.status.idle": "2021-03-20T05:41:01.620996Z",
          "shell.execute_reply": "2021-03-20T05:41:01.620327Z"
        },
        "id": "U_fzTDjnletb",
        "papermill": {
          "duration": 0.061054,
          "end_time": "2021-03-20T05:41:01.621144",
          "exception": false,
          "start_time": "2021-03-20T05:41:01.560090",
          "status": "completed"
        },
        "tags": []
      },
      "outputs": [],
      "source": [
        "group_list = [\n",
        "     # Eastern Conference\n",
        "     ('MIL', 'CHI'),  # group A \n",
        "     ('CLE', 'NYK'), # group B\n",
        "    \n",
        "     ('PHI', 'BKN'), # group C\n",
        "     ('BOS', 'ATL'), # group D\n",
        "    \n",
        "     # Western Conference\n",
        "     ('DEN','OKC'),  # group E\n",
        "     ('PHX','LAC'), # group F\n",
        "    \n",
        "     ('SAC', 'GSW'), # group G\n",
        "     ('MEM', 'LAL')] # group H\n",
        "# group_list = [\n",
        "#      # Eastern Conference\n",
        "#      ('Milwaukee Bucks', 'Chicago Bulls'),  # group A \n",
        "#      ('Cleveland Cavaliers', 'New York Knicks'), # group B\n",
        "    \n",
        "#      ('Philadelphia Sixers', 'Brooklyn Nets'), # group C\n",
        "#      ('Boston Celtics', 'Atlanta Hawks'), # group D\n",
        "    \n",
        "#      # Western Conference\n",
        "#      ('Denver Nuggets','Oklahoma City Thunder'),  # group E\n",
        "#      ('Phoenix Suns','Los Angeles Clippers'), # group F\n",
        "    \n",
        "#      ('Sacramento Kingd', 'Golden State Warriors'), # group G\n",
        "#      ('Memphis Grizzlies', 'Los Angeles Lakers')] # group H"
      ]
    },
    {
      "cell_type": "code",
      "execution_count": 73,
      "metadata": {
        "colab": {
          "base_uri": "https://localhost:8080/"
        },
        "execution": {
          "iopub.execute_input": "2021-03-20T05:41:01.733130Z",
          "iopub.status.busy": "2021-03-20T05:41:01.732421Z",
          "iopub.status.idle": "2021-03-20T05:46:04.368371Z",
          "shell.execute_reply": "2021-03-20T05:46:04.368933Z"
        },
        "id": "xUZ8u7NGletb",
        "outputId": "df4da298-5cc3-4d5a-dab3-dcc84f037860",
        "papermill": {
          "duration": 302.696408,
          "end_time": "2021-03-20T05:46:04.369160",
          "exception": false,
          "start_time": "2021-03-20T05:41:01.672752",
          "status": "completed"
        },
        "tags": []
      },
      "outputs": [
        {
          "name": "stdout",
          "output_type": "stream",
          "text": [
            "CPU times: total: 1min 17s\n",
            "Wall time: 1min 26s\n"
          ]
        }
      ],
      "source": [
        "%%time\n",
        "\n",
        "# initiate a playoff\n",
        "playoff = FinalTournament()\n",
        "# simulate the playoff 5,000 times\n",
        "playoff.simulate(group_list, n_simulation = 5000)"
      ]
    },
    {
      "cell_type": "code",
      "execution_count": 74,
      "metadata": {
        "colab": {
          "base_uri": "https://localhost:8080/"
        },
        "execution": {
          "iopub.execute_input": "2021-03-20T05:46:04.481471Z",
          "iopub.status.busy": "2021-03-20T05:46:04.480466Z",
          "iopub.status.idle": "2021-03-20T05:46:04.484715Z",
          "shell.execute_reply": "2021-03-20T05:46:04.485181Z"
        },
        "id": "8QE8aHl7letc",
        "outputId": "d0dc46ca-c975-4b91-d69d-7c4ecab6ae02",
        "papermill": {
          "duration": 0.064869,
          "end_time": "2021-03-20T05:46:04.485366",
          "exception": false,
          "start_time": "2021-03-20T05:46:04.420497",
          "status": "completed"
        },
        "tags": []
      },
      "outputs": [
        {
          "data": {
            "text/plain": [
              "{0: {'MIL': 0.084825,\n",
              "  'CLE': 0.041175,\n",
              "  'PHI': 0.06945,\n",
              "  'BOS': 0.055525,\n",
              "  'DEN': 0.059775,\n",
              "  'PHX': 0.0651,\n",
              "  'SAC': 0.074,\n",
              "  'MEM': 0.057375,\n",
              "  'CHI': 0.040175,\n",
              "  'NYK': 0.083825,\n",
              "  'BKN': 0.05555,\n",
              "  'ATL': 0.069475,\n",
              "  'OKC': 0.065225,\n",
              "  'LAC': 0.0599,\n",
              "  'GSW': 0.051,\n",
              "  'LAL': 0.067625},\n",
              " 1: {'MIL': 0.1004,\n",
              "  'CLE': 0.0293,\n",
              "  'PHI': 0.04005,\n",
              "  'BOS': 0.0788,\n",
              "  'DEN': 0.0807,\n",
              "  'PHX': 0.04335,\n",
              "  'SAC': 0.10105,\n",
              "  'MEM': 0.038,\n",
              "  'CHI': 0.03345,\n",
              "  'NYK': 0.08685,\n",
              "  'BKN': 0.02565,\n",
              "  'ATL': 0.1055,\n",
              "  'OKC': 0.0865,\n",
              "  'LAC': 0.03945,\n",
              "  'GSW': 0.0642,\n",
              "  'LAL': 0.04675},\n",
              " 2: {'MIL': 0.0908,\n",
              "  'CLE': 0.0134,\n",
              "  'PHI': 0.0357,\n",
              "  'BOS': 0.0996,\n",
              "  'DEN': 0.0637,\n",
              "  'PHX': 0.0223,\n",
              "  'SAC': 0.1476,\n",
              "  'MEM': 0.0385,\n",
              "  'CHI': 0.0201,\n",
              "  'NYK': 0.071,\n",
              "  'BKN': 0.0192,\n",
              "  'ATL': 0.1502,\n",
              "  'OKC': 0.0661,\n",
              "  'LAC': 0.0199,\n",
              "  'GSW': 0.0896,\n",
              "  'LAL': 0.0523},\n",
              " 3: {'MIL': 0.0806,\n",
              "  'CLE': 0.0076,\n",
              "  'PHI': 0.0244,\n",
              "  'BOS': 0.1038,\n",
              "  'DEN': 0.0584,\n",
              "  'PHX': 0.0142,\n",
              "  'SAC': 0.1868,\n",
              "  'MEM': 0.034,\n",
              "  'CHI': 0.0124,\n",
              "  'NYK': 0.0568,\n",
              "  'BKN': 0.0102,\n",
              "  'ATL': 0.1758,\n",
              "  'OKC': 0.0624,\n",
              "  'LAC': 0.0126,\n",
              "  'GSW': 0.1052,\n",
              "  'LAL': 0.0548}}"
            ]
          },
          "execution_count": 74,
          "metadata": {},
          "output_type": "execute_result"
        }
      ],
      "source": [
        "# see the winning probabilities from 5,000 playoffs\n",
        "playoff.rounds_probs"
      ]
    },
    {
      "cell_type": "markdown",
      "metadata": {
        "id": "_nkkPxI9letc",
        "papermill": {
          "duration": 0.051633,
          "end_time": "2021-03-20T05:46:04.589021",
          "exception": false,
          "start_time": "2021-03-20T05:46:04.537388",
          "status": "completed"
        },
        "tags": []
      },
      "source": [
        "# 5. Visualization & Analysis"
      ]
    },
    {
      "cell_type": "code",
      "execution_count": 75,
      "metadata": {
        "execution": {
          "iopub.execute_input": "2021-03-20T05:46:04.703583Z",
          "iopub.status.busy": "2021-03-20T05:46:04.702895Z",
          "iopub.status.idle": "2021-03-20T05:46:04.705795Z",
          "shell.execute_reply": "2021-03-20T05:46:04.706281Z"
        },
        "id": "YBRcZI4Yletd",
        "papermill": {
          "duration": 0.065425,
          "end_time": "2021-03-20T05:46:04.706464",
          "exception": false,
          "start_time": "2021-03-20T05:46:04.641039",
          "status": "completed"
        },
        "tags": []
      },
      "outputs": [],
      "source": [
        "def plotting(rounds_data):\n",
        "    \n",
        "    rounds_stats = list(rounds_data.values())\n",
        "    team_names = list(rounds_stats[0].keys())\n",
        "    \n",
        "    # x is number of rounds used for labels, y is a 2-D array of (n_teams, n_rounds) used for data\n",
        "    x = list(rounds_data.keys())\n",
        "    y = np.array([list(r.values()) for r in rounds_stats]).T \n",
        "    \n",
        "    # we need at least 16 different colors, one for each team\n",
        "    c_1 =  sns.color_palette('tab10', n_colors = 10)\n",
        "    c_2 =  sns.color_palette(\"pastel\", n_colors = 10)\n",
        "    color_map = c_1 + c_2 \n",
        "    \n",
        "    fig = plt.figure()\n",
        "    plt.stackplot(x, y, labels = team_names, colors = color_map) \n",
        "    plt.legend(bbox_to_anchor=(1.1, 1.1), loc = 'upper left', fontsize=13)\n",
        "    plt.xticks(x, fontsize=14)\n",
        "    plt.yticks(fontsize=14)\n",
        "    plt.xlabel('Round Number', fontsize = 15)\n",
        "    plt.title('Winning probabilities by all Teams & Rounds', pad = 20, fontsize = 24)\n",
        "    plt.tight_layout()\n",
        "    plt.show()\n",
        "    \n",
        "    return fig"
      ]
    },
    {
      "cell_type": "code",
      "execution_count": 78,
      "metadata": {
        "colab": {
          "base_uri": "https://localhost:8080/",
          "height": 507
        },
        "execution": {
          "iopub.execute_input": "2021-03-20T05:46:04.834811Z",
          "iopub.status.busy": "2021-03-20T05:46:04.834057Z",
          "iopub.status.idle": "2021-03-20T05:46:05.193644Z",
          "shell.execute_reply": "2021-03-20T05:46:05.192790Z"
        },
        "id": "ql14PbBlletd",
        "outputId": "95ab234d-b4f5-474b-def1-1ff90cb356d6",
        "papermill": {
          "duration": 0.434741,
          "end_time": "2021-03-20T05:46:05.193809",
          "exception": false,
          "start_time": "2021-03-20T05:46:04.759068",
          "status": "completed"
        },
        "tags": []
      },
      "outputs": [
        {
          "data": {
            "image/png": "[encoded data removed]",
            "text/plain": [
              "<Figure size 1000x500 with 1 Axes>"
            ]
          },
          "metadata": {},
          "output_type": "display_data"
        }
      ],
      "source": [
        "# check that a team's wins should get less and less in later rounds\n",
        "fig = plotting(playoff.rounds)"
      ]
    },
    {
      "cell_type": "code",
      "execution_count": 79,
      "metadata": {
        "colab": {
          "base_uri": "https://localhost:8080/",
          "height": 507
        },
        "execution": {
          "iopub.execute_input": "2021-03-20T05:46:05.328654Z",
          "iopub.status.busy": "2021-03-20T05:46:05.328003Z",
          "iopub.status.idle": "2021-03-20T05:46:05.620281Z",
          "shell.execute_reply": "2021-03-20T05:46:05.619772Z"
        },
        "id": "raTKMS70lete",
        "outputId": "5783a84d-da4e-41b5-b644-ea0317391293",
        "papermill": {
          "duration": 0.370414,
          "end_time": "2021-03-20T05:46:05.620436",
          "exception": false,
          "start_time": "2021-03-20T05:46:05.250022",
          "status": "completed"
        },
        "tags": []
      },
      "outputs": [
        {
          "data": {
            "image/png": "[encoded data removed]",
            "text/plain": [
              "<Figure size 1000x500 with 1 Axes>"
            ]
          },
          "metadata": {},
          "output_type": "display_data"
        }
      ],
      "source": [
        "# plot the results: probabilities of winning for all teams at each round\n",
        "fig = plotting(playoff.rounds_probs)"
      ]
    },
    {
      "cell_type": "markdown",
      "metadata": {
        "id": "rn2ZIqAtlete",
        "papermill": {
          "duration": 0.057157,
          "end_time": "2021-03-20T05:46:05.735131",
          "exception": false,
          "start_time": "2021-03-20T05:46:05.677974",
          "status": "completed"
        },
        "tags": []
      },
      "source": [
        "### ☝️ Observations\n",
        "\n",
        "1. Based on overall winning probabilities, the top 3 teams are: **Bucks > Lakers > Nuggets**.\n",
        "\n",
        "2. Based on winning probabilities in the final round, the top 3 teams are: **Bucks > Lakers > Heat**.\n",
        "\n",
        "3. **Bucks** has a much higher overall chance of winning, if it can get through the early rounds.\n",
        "\n",
        "4. If we were the **Lakers**, we would avoid the **Bucks**; if we were the **Heat** or **Nuggets**, we would avoid both the **Bucks** and **Lakers**."
      ]
    },
    {
      "cell_type": "markdown",
      "metadata": {
        "id": "QpvcuZjvletf",
        "papermill": {
          "duration": 0.058549,
          "end_time": "2021-03-20T05:46:05.851757",
          "exception": false,
          "start_time": "2021-03-20T05:46:05.793208",
          "status": "completed"
        },
        "tags": []
      },
      "source": [
        "### 🌗 Results Comparison (actual 2019-2020 NBA playoff results)\n",
        "\n",
        "In the actual 2019-2020 playoff, **Bucks** had lost to **Toronto Raptors** narrowly (3-4) at the 1st round. Lakers had, as we predicted, beat both **Nuggets** and **Heat** in the last two rounds and became the champion. These are mostly consistent with our model's predictions given the above observations. And since our model have not seen the 2019-2020 playoff data, it didn't \"cheat\" to get the results."
      ]
    },
    {
      "cell_type": "markdown",
      "metadata": {
        "id": "dcrCpV8Jletf",
        "papermill": {
          "duration": 0.057877,
          "end_time": "2021-03-20T05:46:05.968071",
          "exception": false,
          "start_time": "2021-03-20T05:46:05.910194",
          "status": "completed"
        },
        "tags": []
      },
      "source": [
        "### 🤔 Debug: Why Raptors was able to beat Bucks?\n",
        "\n",
        "From our observations, though Bucks' chances of winning in the early rounds are less than in later rounds,it still is much better than Raptors, how did Bucks lose? One hypothesis is that a strong team(e.g., Bucks), when facing particular type of opponent(e.g., Raptors), may become weaker. To comfirm this hypothesis, we can check the performance of Bucks when up against Raptors in our data."
      ]
    },
    {
      "cell_type": "code",
      "execution_count": null,
      "metadata": {
        "execution": {
          "iopub.execute_input": "2021-03-20T05:46:06.099281Z",
          "iopub.status.busy": "2021-03-20T05:46:06.094369Z",
          "iopub.status.idle": "2021-03-20T05:46:06.112922Z",
          "shell.execute_reply": "2021-03-20T05:46:06.112316Z"
        },
        "id": "ymZEeELlletf",
        "papermill": {
          "duration": 0.087095,
          "end_time": "2021-03-20T05:46:06.113070",
          "exception": false,
          "start_time": "2021-03-20T05:46:06.025975",
          "status": "completed"
        },
        "tags": []
      },
      "outputs": [],
      "source": [
        "# extract games played by Bucks and Raptors\n",
        "\n",
        "df_br_1 = df.loc[(df['HOME_TEAM_ID'] == 'Bucks') & (df['VISITOR_TEAM_ID'] == 'Raptors')].reset_index(drop=True)\n",
        "df_br_2 = df.loc[(df['HOME_TEAM_ID'] == 'Raptors') & (df['VISITOR_TEAM_ID'] == 'Bucks')].reset_index(drop=True)\n"
      ]
    },
    {
      "cell_type": "code",
      "execution_count": null,
      "metadata": {
        "colab": {
          "base_uri": "https://localhost:8080/"
        },
        "execution": {
          "iopub.execute_input": "2021-03-20T05:46:06.235027Z",
          "iopub.status.busy": "2021-03-20T05:46:06.234316Z",
          "iopub.status.idle": "2021-03-20T05:46:06.238255Z",
          "shell.execute_reply": "2021-03-20T05:46:06.237498Z"
        },
        "id": "ypH0wv2Fletg",
        "outputId": "0cb380a4-3943-48ce-f590-54b8005ded5b",
        "papermill": {
          "duration": 0.067754,
          "end_time": "2021-03-20T05:46:06.238468",
          "exception": false,
          "start_time": "2021-03-20T05:46:06.170714",
          "status": "completed"
        },
        "tags": []
      },
      "outputs": [
        {
          "name": "stdout",
          "output_type": "stream",
          "text": [
            "Bucks won 18 out of 35 when being the home team\n",
            "Bucks won 16 out of 36 when being the away team\n"
          ]
        }
      ],
      "source": [
        "print('Bucks won {} out of {} when being the home team'.format(\n",
        "    sum(df_br_1['HOME_TEAM_WINS']), df_br_1.shape[0])) \n",
        "print('Bucks won {} out of {} when being the away team'.format(\n",
        "    df_br_2.shape[0] - sum(df_br_2['HOME_TEAM_WINS']), df_br_2.shape[0])) "
      ]
    },
    {
      "cell_type": "code",
      "execution_count": null,
      "metadata": {
        "colab": {
          "base_uri": "https://localhost:8080/"
        },
        "execution": {
          "iopub.execute_input": "2021-03-20T05:46:06.361185Z",
          "iopub.status.busy": "2021-03-20T05:46:06.360500Z",
          "iopub.status.idle": "2021-03-20T05:46:06.364742Z",
          "shell.execute_reply": "2021-03-20T05:46:06.364150Z"
        },
        "id": "eOgfO_q7letg",
        "outputId": "d21dd160-374f-4e33-d1e4-de785f52f06d",
        "papermill": {
          "duration": 0.067284,
          "end_time": "2021-03-20T05:46:06.364939",
          "exception": false,
          "start_time": "2021-03-20T05:46:06.297655",
          "status": "completed"
        },
        "tags": []
      },
      "outputs": [
        {
          "name": "stdout",
          "output_type": "stream",
          "text": [
            "Bucks' chance of winning against Raptors:  0.4788732394366197\n"
          ]
        }
      ],
      "source": [
        "# bucks against Rapters\n",
        "print(\"Bucks' chance of winning against Raptors: \", (18 + 16) /(35 + 36))"
      ]
    },
    {
      "cell_type": "markdown",
      "metadata": {
        "id": "iJeMAJzHleth",
        "papermill": {
          "duration": 0.058319,
          "end_time": "2021-03-20T05:46:06.481335",
          "exception": false,
          "start_time": "2021-03-20T05:46:06.423016",
          "status": "completed"
        },
        "tags": []
      },
      "source": [
        "☝️The above explains why Bucks lost: It has little less than random chance of winning against Raptors. In sum, when we train the win/loss classifier, we should take into account which teams are competing as well!"
      ]
    },
    {
      "cell_type": "markdown",
      "metadata": {
        "id": "8krIDKuileth",
        "papermill": {
          "duration": 0.05798,
          "end_time": "2021-03-20T05:46:06.597286",
          "exception": false,
          "start_time": "2021-03-20T05:46:06.539306",
          "status": "completed"
        },
        "tags": []
      },
      "source": [
        "## 🙂 Improvements\n",
        "\n",
        "1. **Use more and better features**: Powerful simulations usually have more variables to cover more scenarios of the playoff. Using player level statistics is one way to go.\n",
        "\n",
        "2. **Use better win/loss model**: Our trained SVM Discriminator only has about 70%+ accuracy, it is sufficient but nowhere near perfect. Improvements can be achieved by adding more data features or using a more powerful model such as Neural Network or ensemble model.\n",
        "\n",
        "3. **Do better at distribution fitting**: In the projects, we used only a handful of distributions to speed up the fitting. To reduce the fitting errors, we can use more complex distributions. The lower the fitting error, the more realistic the samples we can generate.\n",
        "\n",
        "4. **Run more simulations**: Should we have more variables to account for in our win/loss Discriminator, we need to run more simulations to get the precise probabilities."
      ]
    }
  ],
  "metadata": {
    "colab": {
      "provenance": []
    },
    "kernelspec": {
      "display_name": "Python 3",
      "language": "python",
      "name": "python3"
    },
    "language_info": {
      "codemirror_mode": {
        "name": "ipython",
        "version": 3
      },
      "file_extension": ".py",
      "mimetype": "text/x-python",
      "name": "python",
      "nbconvert_exporter": "python",
      "pygments_lexer": "ipython3",
      "version": "3.10.10"
    },
    "papermill": {
      "default_parameters": {},
      "duration": 888.835667,
      "end_time": "2021-03-20T05:46:07.367317",
      "environment_variables": {},
      "exception": null,
      "input_path": "__notebook__.ipynb",
      "output_path": "__notebook__.ipynb",
      "parameters": {},
      "start_time": "2021-03-20T05:31:18.531650",
      "version": "2.2.2"
    }
  },
  "nbformat": 4,
  "nbformat_minor": 0
}
